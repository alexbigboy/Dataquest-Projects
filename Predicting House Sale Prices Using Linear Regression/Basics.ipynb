{
 "cells": [
  {
   "cell_type": "markdown",
   "metadata": {},
   "source": [
    "# Predicting House Sale Prices Using KNN and Linear Regression"
   ]
  },
  {
   "cell_type": "code",
   "execution_count": 1,
   "metadata": {
    "collapsed": false
   },
   "outputs": [],
   "source": [
    "import pandas as pd\n",
    "import numpy as np\n",
    "import matplotlib\n",
    "import matplotlib.pyplot as plt\n",
    "import seaborn as sns\n",
    "import requests\n",
    "from sklearn.model_selection import KFold\n",
    "from sklearn.metrics import mean_squared_error\n",
    "from sklearn import linear_model\n",
    "from sklearn.feature_selection import RFE\n",
    "from sklearn.model_selection import cross_val_score\n",
    "%matplotlib inline\n",
    "\n",
    "pd.options.display.max_columns = 100"
   ]
  },
  {
   "cell_type": "code",
   "execution_count": 2,
   "metadata": {
    "collapsed": true
   },
   "outputs": [],
   "source": [
    "df = pd.read_csv(\"AmesHousing.tsv\",delimiter='\\t')"
   ]
  },
  {
   "cell_type": "code",
   "execution_count": 3,
   "metadata": {
    "collapsed": false
   },
   "outputs": [],
   "source": [
    "map_dict = {\n",
    "     'Lot Shape' : {\n",
    "    'Reg' : 4,\n",
    "    'IR1' : 3,\n",
    "    'IR2' : 2,\n",
    "    'IR3' : 1\n",
    "    },\n",
    "    'Utilities' : {\n",
    "        'AllPub' : 3,\n",
    "        'NoSewr' : 2,\n",
    "        'NoSeWa' : 1\n",
    "    },\n",
    "    'Land Slope' : {\n",
    "        'Gtl' : 3,\n",
    "        'Mod' : 2,\n",
    "        'Sev' : 1\n",
    "    },\n",
    "    'Exter Qual' : {\n",
    "        'Ex' : 5,\n",
    "        'Gd' : 4,\n",
    "        'TA' : 3,\n",
    "        'Fa' : 2,\n",
    "        'Po' : 1\n",
    "    },\n",
    "    'Exter Cond' : {\n",
    "        'Ex' : 5,\n",
    "        'Gd' : 4,\n",
    "        'TA' : 3,\n",
    "        'Fa' : 2,\n",
    "        'Po' : 1\n",
    "    },\n",
    "    'Heating QC' : {\n",
    "        'Ex' : 5,\n",
    "        'Gd' : 4,\n",
    "        'TA' : 3,\n",
    "        'Fa' : 2,\n",
    "        'Po' : 1\n",
    "    },\n",
    "    'Electrical' : {\n",
    "        'SBrkr' : 5,\n",
    "        'FuseA' : 4,\n",
    "        'FuseF' : 3,\n",
    "        'FuseP' : 2,\n",
    "        'Mix' : 1\n",
    "    },\n",
    "    'Kitchen Qual' :{\n",
    "        'Ex' : 5,\n",
    "        'Gd' : 4,\n",
    "        'TA' : 3,\n",
    "        'Fa' : 2,\n",
    "        'Po' : 1\n",
    "    },\n",
    "    'Functional' : {\n",
    "        'Typ' : 8,\n",
    "        'Min1' : 7,\n",
    "        'Min2' : 6,\n",
    "        'Mod' : 5,\n",
    "        'Maj1' : 4,\n",
    "        'Maj2' : 3,\n",
    "        'Sev' : 2,\n",
    "        'Sal' : 1\n",
    "    },\n",
    "    'Paved Drive' : {\n",
    "        'Y' : 3,\n",
    "        'P' : 2,\n",
    "        'N' : 1\n",
    "    }\n",
    "}"
   ]
  },
  {
   "cell_type": "code",
   "execution_count": 4,
   "metadata": {
    "collapsed": false
   },
   "outputs": [
    {
     "data": {
      "text/plain": [
       "39042.37291815177"
      ]
     },
     "execution_count": 4,
     "metadata": {},
     "output_type": "execute_result"
    },
    {
     "data": {
      "image/png": "[encoded data removed]",
      "text/plain": [
       "<matplotlib.figure.Figure at 0x7f8839e4eda0>"
      ]
     },
     "metadata": {},
     "output_type": "display_data"
    }
   ],
   "source": [
    "\n",
    "def transform_features(df):\n",
    "    #finding missing values with less than %5 missing and greater than 25%.\n",
    "    null_df = df.isnull().sum()\n",
    "    null_df_less5 = null_df[(null_df/null_df.shape[0] > 0) & (null_df/null_df.shape[0] < .05)]\n",
    "    null_df_greater25 = null_df[(null_df/null_df.shape[0]) > .25]\n",
    "    \n",
    "    #Fill any column with less than 5% missing with its most popular value\n",
    "    for col in null_df_less5.index:\n",
    "        val = df[col].value_counts().sort_values(ascending=False).index[0]\n",
    "        df[col] = df[col].fillna(val)\n",
    "  \n",
    "    #Drop Any column with greater than 25% null\n",
    "    for col in null_df_greater25.index:\n",
    "        df = df.drop(col,axis=1)\n",
    "        \n",
    "    # Making list of columns that will be dropped due to them not being useful to the model or will cause data leakage\n",
    "    drop_columns = ['Year Built', 'Year Remod/Add','Order','PID','Sale Type','Sale Condition','Yr Sold','Mo Sold']\n",
    "\n",
    "    # Creating some features using some Data Leak columns which will later be dropped. \n",
    "    df['Yrs Since Remod/Add'] = df['Yr Sold'] - df['Year Remod/Add']\n",
    "    df['House Age'] = df['Yr Sold'] - df['Year Built']\n",
    "    \n",
    "    #Dropping Data Leak and Useless columns\n",
    "    df.drop(drop_columns,axis=1,inplace=True)\n",
    "    \n",
    "    #Transforming object data in categorical dummies\n",
    "    ordinal_columns = ['Lot Shape','Utilities', 'Land Slope', 'Overall Qual', 'Overall Cond', 'Exter Qual', 'Exter Cond', 'Bsmt Qual', 'Bsmt Cond', 'Bsmt Exposure', 'BsmtFin Type 1', 'BsmtFin Type 2', 'Heating QC', 'Electrical', 'Kitchen Qual', 'Functional', 'Fireplace Qu', 'Garage Finish', 'Garage Qual', 'Garage Cond', 'Paved Drive', 'Pool QC', 'Fence']\n",
    "    #lets not make a list of columns we already removed\n",
    "    ordinal_columns = [i for i in ordinal_columns if i not in null_df_greater25.index]\n",
    "    #lets remove the columns that are already in 1-10 order, because these will not be mapped\n",
    "    ordinal_columns = [ i for i in ordinal_columns if i not in ['Overall Qual', 'Overall Cond']]\n",
    "    #Lets use our mapping above for transforming these ordinal columns\n",
    "    for col in ordinal_columns:\n",
    "        df[col] = df[col].map(map_dict[col])\n",
    "    \n",
    "    #Lets transform the rest of these using One Hot Encoding and get_dummies\n",
    "    df = pd.get_dummies(df)\n",
    "    \n",
    "    return df\n",
    "\n",
    "def select_features(df):\n",
    "    corr_gre_4 = df.corrwith(df['SalePrice']).abs().sort_values(ascending=False) > 0.4\n",
    "    features = corr_gre_4[corr_gre_4 > .4].index\n",
    "    return df[features]\n",
    "\n",
    "def train_and_test(df):  \n",
    "    train = df[:1460]\n",
    "    test = df[1460:]\n",
    "    \n",
    "    numeric_train = train.select_dtypes(include=['integer', 'float'])\n",
    "    numeric_test = test.select_dtypes(include=['integer', 'float'])\n",
    "    \n",
    "    features = numeric_train.columns.drop(\"SalePrice\")\n",
    "    lr = linear_model.LinearRegression()\n",
    "    lr.fit(train[features], train[\"SalePrice\"])\n",
    "    predictions = lr.predict(test[features])\n",
    "    mse = mean_squared_error(test[\"SalePrice\"], predictions)\n",
    "    rmse = np.sqrt(mse)\n",
    "    \n",
    "    sns.regplot(x=predictions,y=test['SalePrice'])\n",
    "    \n",
    "    return rmse\n",
    "\n",
    "transform_df = transform_features(df)\n",
    "filtered_df = select_features(transform_df)\n",
    "rmse = train_and_test(filtered_df)\n",
    "\n",
    "rmse"
   ]
  },
  {
   "cell_type": "code",
   "execution_count": 5,
   "metadata": {
    "collapsed": false
   },
   "outputs": [
    {
     "data": {
      "text/plain": [
       "\"\\ntest_rfe_df = transform_features(df)\\nmodel = linear_model.LinearRegression()\\nrfe = RFE(model, 5)\\nfit = rfe.fit(test_rfe_df, test_rfe_df['SalePrice'])\\n\""
      ]
     },
     "execution_count": 5,
     "metadata": {},
     "output_type": "execute_result"
    }
   ],
   "source": [
    "'''\n",
    "test_rfe_df = transform_features(df)\n",
    "model = linear_model.LinearRegression()\n",
    "rfe = RFE(model, 5)\n",
    "fit = rfe.fit(test_rfe_df, test_rfe_df['SalePrice'])\n",
    "'''\n"
   ]
  },
  {
   "cell_type": "code",
   "execution_count": 6,
   "metadata": {
    "collapsed": false
   },
   "outputs": [],
   "source": [
    "#lrtest_rfe_df.columns[fit.support_]"
   ]
  },
  {
   "cell_type": "markdown",
   "metadata": {
    "collapsed": true
   },
   "source": [
    "## Transforming Features and Cleaning Data - Work Cells for our function above"
   ]
  },
  {
   "cell_type": "code",
   "execution_count": 7,
   "metadata": {
    "collapsed": false
   },
   "outputs": [
    {
     "name": "stdout",
     "output_type": "stream",
     "text": [
      "Object Null\n",
      "MS Zoning            0\n",
      "Street               0\n",
      "Alley             2732\n",
      "Lot Shape            0\n",
      "Land Contour         0\n",
      "Utilities            0\n",
      "Lot Config           0\n",
      "Land Slope           0\n",
      "Neighborhood         0\n",
      "Condition 1          0\n",
      "Condition 2          0\n",
      "Bldg Type            0\n",
      "House Style          0\n",
      "Roof Style           0\n",
      "Roof Matl            0\n",
      "Exterior 1st         0\n",
      "Exterior 2nd         0\n",
      "Mas Vnr Type        23\n",
      "Exter Qual           0\n",
      "Exter Cond           0\n",
      "Foundation           0\n",
      "Bsmt Qual           80\n",
      "Bsmt Cond           80\n",
      "Bsmt Exposure       83\n",
      "BsmtFin Type 1      80\n",
      "BsmtFin Type 2      81\n",
      "Heating              0\n",
      "Heating QC           0\n",
      "Central Air          0\n",
      "Electrical           0\n",
      "Kitchen Qual         0\n",
      "Functional           0\n",
      "Fireplace Qu      1422\n",
      "Garage Type        157\n",
      "Garage Finish      159\n",
      "Garage Qual        159\n",
      "Garage Cond        159\n",
      "Paved Drive          0\n",
      "Pool QC           2917\n",
      "Fence             2358\n",
      "Misc Feature      2824\n",
      "Sale Type            0\n",
      "Sale Condition       0\n",
      "dtype: int64\n",
      "Numeric Null\n"
     ]
    },
    {
     "data": {
      "text/plain": [
       "Order                0\n",
       "PID                  0\n",
       "MS SubClass          0\n",
       "Lot Frontage       490\n",
       "Lot Area             0\n",
       "Overall Qual         0\n",
       "Overall Cond         0\n",
       "Year Built           0\n",
       "Year Remod/Add       0\n",
       "Mas Vnr Area        23\n",
       "BsmtFin SF 1         0\n",
       "BsmtFin SF 2         0\n",
       "Bsmt Unf SF          0\n",
       "Total Bsmt SF        0\n",
       "1st Flr SF           0\n",
       "2nd Flr SF           0\n",
       "Low Qual Fin SF      0\n",
       "Gr Liv Area          0\n",
       "Bsmt Full Bath       0\n",
       "Bsmt Half Bath       0\n",
       "Full Bath            0\n",
       "Half Bath            0\n",
       "Bedroom AbvGr        0\n",
       "Kitchen AbvGr        0\n",
       "TotRms AbvGrd        0\n",
       "Fireplaces           0\n",
       "Garage Yr Blt      159\n",
       "Garage Cars          0\n",
       "Garage Area          0\n",
       "Wood Deck SF         0\n",
       "Open Porch SF        0\n",
       "Enclosed Porch       0\n",
       "3Ssn Porch           0\n",
       "Screen Porch         0\n",
       "Pool Area            0\n",
       "Misc Val             0\n",
       "Mo Sold              0\n",
       "Yr Sold              0\n",
       "SalePrice            0\n",
       "dtype: int64"
      ]
     },
     "execution_count": 7,
     "metadata": {},
     "output_type": "execute_result"
    }
   ],
   "source": [
    "#Experimenting with columns and cleaning before making function\n",
    "train = df[0:1460]\n",
    "test = df[1460:]\n",
    "print('Object Null')\n",
    "print(df.select_dtypes(include=['object']).isnull().sum())\n",
    "print('Numeric Null')\n",
    "df.select_dtypes(include=['integer','float']).isnull().sum()"
   ]
  },
  {
   "cell_type": "code",
   "execution_count": 8,
   "metadata": {
    "collapsed": false
   },
   "outputs": [],
   "source": [
    "#finding missing values with less than %5 missing and greater than 25%.\n",
    "null_df = df.isnull().sum()\n",
    "null_df_less5 = null_df[(null_df/null_df.shape[0] > 0) & (null_df/null_df.shape[0] < .05)]\n",
    "null_df_greater25 = null_df[(null_df/null_df.shape[0]) > .25]"
   ]
  },
  {
   "cell_type": "code",
   "execution_count": 9,
   "metadata": {
    "collapsed": false
   },
   "outputs": [],
   "source": [
    "#Fill any column with less than 5% missing with its most popular value\n",
    "for col in null_df_less5.index:\n",
    "    val = df[col].value_counts().sort_values(ascending=False).index[0]\n",
    "    df[col] = df[col].fillna(val)\n",
    "    print('Filling in :', col, 'with', val)"
   ]
  },
  {
   "cell_type": "code",
   "execution_count": 10,
   "metadata": {
    "collapsed": false
   },
   "outputs": [
    {
     "name": "stdout",
     "output_type": "stream",
     "text": [
      "(2930, 82)\n",
      "Dropping :  Lot Frontage\n",
      "Dropping :  Alley\n",
      "Dropping :  Mas Vnr Type\n",
      "Dropping :  Mas Vnr Area\n",
      "Dropping :  Bsmt Qual\n",
      "Dropping :  Bsmt Cond\n",
      "Dropping :  Bsmt Exposure\n",
      "Dropping :  BsmtFin Type 1\n",
      "Dropping :  BsmtFin Type 2\n",
      "Dropping :  Fireplace Qu\n",
      "Dropping :  Garage Type\n",
      "Dropping :  Garage Yr Blt\n",
      "Dropping :  Garage Finish\n",
      "Dropping :  Garage Qual\n",
      "Dropping :  Garage Cond\n",
      "Dropping :  Pool QC\n",
      "Dropping :  Fence\n",
      "Dropping :  Misc Feature\n"
     ]
    },
    {
     "data": {
      "text/plain": [
       "(2930, 64)"
      ]
     },
     "execution_count": 10,
     "metadata": {},
     "output_type": "execute_result"
    }
   ],
   "source": [
    "#Drop Any column with greater than 25% null\n",
    "print(df.shape)\n",
    "for col in null_df_greater25.index:\n",
    "    df = df.drop(col,axis=1)\n",
    "    print('Dropping : ', col)\n",
    "df.shape"
   ]
  },
  {
   "cell_type": "markdown",
   "metadata": {},
   "source": [
    "## Understanding the columns a bit more to decide how to clean the data\n",
    "\n",
    "https://ww2.amstat.org/publications/jse/v19n3/decock/DataDocumentation.txt"
   ]
  },
  {
   "cell_type": "code",
   "execution_count": 11,
   "metadata": {
    "collapsed": false
   },
   "outputs": [],
   "source": [
    "# Making list of columns that will be dropped due to them not being useful to the model or will cause data leakage\n",
    "\n",
    "drop_columns = ['Year Built', 'Year Remod/Add','Order','PID','Sale Type','Sale Condition','Yr Sold','Mo Sold']"
   ]
  },
  {
   "cell_type": "code",
   "execution_count": 12,
   "metadata": {
    "collapsed": false
   },
   "outputs": [],
   "source": [
    "# Creating some features using some Data Leak columns which will later be dropped. \n",
    "df['Yrs Since Remod/Add'] = df['Yr Sold'] - df['Year Remod/Add']\n",
    "df['House Age'] = df['Yr Sold'] - df['Year Built']"
   ]
  },
  {
   "cell_type": "code",
   "execution_count": 13,
   "metadata": {
    "collapsed": false
   },
   "outputs": [],
   "source": [
    "#Dropping Data Leak and Useless columns\n",
    "df.drop(drop_columns,axis=1,inplace=True)"
   ]
  },
  {
   "cell_type": "markdown",
   "metadata": {},
   "source": [
    "### Understanding Our Categorical Values in the Dataset"
   ]
  },
  {
   "cell_type": "code",
   "execution_count": 14,
   "metadata": {
    "collapsed": false,
    "scrolled": true
   },
   "outputs": [],
   "source": [
    "ordinal_columns = ['Lot Shape','Utilities', 'Land Slope', 'Overall Qual', 'Overall Cond', 'Exter Qual', 'Exter Cond', 'Bsmt Qual', 'Bsmt Cond', 'Bsmt Exposure', 'BsmtFin Type 1', 'BsmtFin Type 2', 'Heating QC', 'Electrical', 'Kitchen Qual', 'Functional', 'Fireplace Qu', 'Garage Finish', 'Garage Qual', 'Garage Cond', 'Paved Drive', 'Pool QC', 'Fence']\n",
    "#lets not make a list of columns we already removed\n",
    "ordinal_columns = [i for i in ordinal_columns if i not in null_df_greater25.index]\n",
    "#lets remove the columns that are already in 1-10 order, because these will not be mapped\n",
    "ordinal_columns = [ i for i in ordinal_columns if i not in ['Overall Qual', 'Overall Cond']]\n",
    "#Lets create mapping for these columns using our documentation\n",
    "map_dict = {\n",
    "     'Lot Shape' : {\n",
    "    'Reg' : 4,\n",
    "    'IR1' : 3,\n",
    "    'IR2' : 2,\n",
    "    'IR3' : 1\n",
    "    },\n",
    "    'Utilities' : {\n",
    "        'AllPub' : 3,\n",
    "        'NoSewr' : 2,\n",
    "        'NoSeWa' : 1\n",
    "    },\n",
    "    'Land Slope' : {\n",
    "        'Gtl' : 3,\n",
    "        'Mod' : 2,\n",
    "        'Sev' : 1\n",
    "    },\n",
    "    'Exter Qual' : {\n",
    "        'Ex' : 5,\n",
    "        'Gd' : 4,\n",
    "        'TA' : 3,\n",
    "        'Fa' : 2,\n",
    "        'Po' : 1\n",
    "    },\n",
    "    'Exter Cond' : {\n",
    "        'Ex' : 5,\n",
    "        'Gd' : 4,\n",
    "        'TA' : 3,\n",
    "        'Fa' : 2,\n",
    "        'Po' : 1\n",
    "    },\n",
    "    'Heating QC' : {\n",
    "        'Ex' : 5,\n",
    "        'Gd' : 4,\n",
    "        'TA' : 3,\n",
    "        'Fa' : 2,\n",
    "        'Po' : 1\n",
    "    },\n",
    "    'Electrical' : {\n",
    "        'SBrkr' : 5,\n",
    "        'FuseA' : 4,\n",
    "        'FuseF' : 3,\n",
    "        'FuseP' : 2,\n",
    "        'Mix' : 1\n",
    "    },\n",
    "    'Kitchen Qual' :{\n",
    "        'Ex' : 5,\n",
    "        'Gd' : 4,\n",
    "        'TA' : 3,\n",
    "        'Fa' : 2,\n",
    "        'Po' : 1\n",
    "    },\n",
    "    'Functional' : {\n",
    "        'Typ' : 8,\n",
    "        'Min1' : 7,\n",
    "        'Min2' : 6,\n",
    "        'Mod' : 5,\n",
    "        'Maj1' : 4,\n",
    "        'Maj2' : 3,\n",
    "        'Sev' : 2,\n",
    "        'Sal' : 1\n",
    "    },\n",
    "    'Paved Drive' : {\n",
    "        'Y' : 3,\n",
    "        'P' : 2,\n",
    "        'N' : 1\n",
    "    }\n",
    "}\n",
    "\n"
   ]
  },
  {
   "cell_type": "code",
   "execution_count": 15,
   "metadata": {
    "collapsed": false
   },
   "outputs": [],
   "source": [
    "for col in ordinal_columns:\n",
    "    df[col] = df[col].map(map_dict[col])"
   ]
  },
  {
   "cell_type": "markdown",
   "metadata": {},
   "source": [
    "### Lets look at our remaining Object datatypes. Specifically our Nominal data"
   ]
  },
  {
   "cell_type": "code",
   "execution_count": 16,
   "metadata": {
    "collapsed": false
   },
   "outputs": [],
   "source": [
    "#Lets transform the rest of these using One Hot Encoding and get_dummies\n",
    "df = pd.get_dummies(df)"
   ]
  },
  {
   "cell_type": "markdown",
   "metadata": {
    "collapsed": true
   },
   "source": [
    "## Feature Selection"
   ]
  },
  {
   "cell_type": "code",
   "execution_count": 17,
   "metadata": {
    "collapsed": false,
    "scrolled": true
   },
   "outputs": [
    {
     "data": {
      "text/plain": [
       "<matplotlib.axes._subplots.AxesSubplot at 0x7f889392f518>"
      ]
     },
     "execution_count": 17,
     "metadata": {},
     "output_type": "execute_result"
    },
    {
     "data": {
      "image/png": "[encoded data removed]",
      "text/plain": [
       "<matplotlib.figure.Figure at 0x7f88938780f0>"
      ]
     },
     "metadata": {},
     "output_type": "display_data"
    }
   ],
   "source": [
    "fig = plt.figure(figsize=(10,10))\n",
    "\n",
    "sns.heatmap(df.select_dtypes(include=['int','float']).corr().abs())"
   ]
  },
  {
   "cell_type": "code",
   "execution_count": 18,
   "metadata": {
    "collapsed": false
   },
   "outputs": [
    {
     "data": {
      "text/plain": [
       "Index(['Overall Qual', 'Gr Liv Area', 'Exter Qual', 'Kitchen Qual',\n",
       "       'Garage Cars', 'Garage Area', 'Total Bsmt SF', '1st Flr SF',\n",
       "       'House Age', 'Full Bath', 'Yrs Since Remod/Add', 'Foundation_PConc',\n",
       "       'TotRms AbvGrd', 'Fireplaces', 'Heating QC', 'Neighborhood_NridgHt',\n",
       "       'BsmtFin SF 1'],\n",
       "      dtype='object')"
      ]
     },
     "execution_count": 18,
     "metadata": {},
     "output_type": "execute_result"
    }
   ],
   "source": [
    "corr_gre_4 = df.corrwith(df['SalePrice']).abs().sort_values(ascending=False) > 0.4\n",
    "corr_gre_4[corr_gre_4 > .4].index.drop('SalePrice')"
   ]
  },
  {
   "cell_type": "code",
   "execution_count": 19,
   "metadata": {
    "collapsed": false
   },
   "outputs": [
    {
     "data": {
      "text/html": [
       "<div>\n",
       "<table border=\"1\" class=\"dataframe\">\n",
       "  <thead>\n",
       "    <tr style=\"text-align: right;\">\n",
       "      <th></th>\n",
       "      <th>Gr Liv Area</th>\n",
       "      <th>Garage Cars</th>\n",
       "      <th>Garage Area</th>\n",
       "    </tr>\n",
       "  </thead>\n",
       "  <tbody>\n",
       "    <tr>\n",
       "      <th>Gr Liv Area</th>\n",
       "      <td>1.000000</td>\n",
       "      <td>0.488854</td>\n",
       "      <td>0.483971</td>\n",
       "    </tr>\n",
       "    <tr>\n",
       "      <th>Garage Cars</th>\n",
       "      <td>0.488854</td>\n",
       "      <td>1.000000</td>\n",
       "      <td>0.888699</td>\n",
       "    </tr>\n",
       "    <tr>\n",
       "      <th>Garage Area</th>\n",
       "      <td>0.483971</td>\n",
       "      <td>0.888699</td>\n",
       "      <td>1.000000</td>\n",
       "    </tr>\n",
       "  </tbody>\n",
       "</table>\n",
       "</div>"
      ],
      "text/plain": [
       "             Gr Liv Area  Garage Cars  Garage Area\n",
       "Gr Liv Area     1.000000     0.488854     0.483971\n",
       "Garage Cars     0.488854     1.000000     0.888699\n",
       "Garage Area     0.483971     0.888699     1.000000"
      ]
     },
     "execution_count": 19,
     "metadata": {},
     "output_type": "execute_result"
    }
   ],
   "source": [
    "df[df.columns[pd.Series(df.columns).str.startswith('G')]].corr()"
   ]
  },
  {
   "cell_type": "markdown",
   "metadata": {
    "collapsed": false
   },
   "source": [
    "## Validation / Training"
   ]
  },
  {
   "cell_type": "code",
   "execution_count": 20,
   "metadata": {
    "collapsed": false,
    "scrolled": true
   },
   "outputs": [
    {
     "data": {
      "text/plain": [
       "array([ 36867.56955441,  32824.05353127,  36649.99440333,  27081.85883365,\n",
       "        33782.21083643])"
      ]
     },
     "execution_count": 20,
     "metadata": {},
     "output_type": "execute_result"
    }
   ],
   "source": [
    "data = pd.read_csv(\"AmesHousing.tsv\",delimiter='\\t')\n",
    "data = transform_features(data)\n",
    "data = select_features(data)\n",
    "features = data.drop('SalePrice',axis=1).columns\n",
    "kf = KFold(5,shuffle=True)\n",
    "lr = linear_model.LinearRegression()\n",
    "mses = cross_val_score(lr,data[features],data['SalePrice'], scoring=\"neg_mean_squared_error\", cv=kf)\n",
    "rmses = np.abs(mses)**(1/2)\n",
    "rmses"
   ]
  },
  {
   "cell_type": "markdown",
   "metadata": {},
   "source": [
    "## Rewriting Our Functions from Above"
   ]
  },
  {
   "cell_type": "code",
   "execution_count": 21,
   "metadata": {
    "collapsed": true
   },
   "outputs": [],
   "source": [
    "def transform_features(df):\n",
    "    #finding missing values with less than %5 missing and greater than 25%.\n",
    "    null_df = df.isnull().sum()\n",
    "    null_df_less5 = null_df[(null_df/null_df.shape[0] > 0) & (null_df/null_df.shape[0] < .05)]\n",
    "    null_df_greater25 = null_df[(null_df/null_df.shape[0]) > .25]\n",
    "    \n",
    "    #Fill any column with less than 5% missing with its most popular value\n",
    "    for col in null_df_less5.index:\n",
    "        val = df[col].value_counts().sort_values(ascending=False).index[0]\n",
    "        df[col] = df[col].fillna(val)\n",
    "  \n",
    "    #Drop Any column with greater than 25% null\n",
    "    for col in null_df_greater25.index:\n",
    "        df = df.drop(col,axis=1)\n",
    "        \n",
    "    # Making list of columns that will be dropped due to them not being useful to the model or will cause data leakage\n",
    "    drop_columns = ['Year Built', 'Year Remod/Add','Order','PID','Sale Type','Sale Condition','Yr Sold','Mo Sold']\n",
    "\n",
    "    # Creating some features using some Data Leak columns which will later be dropped. \n",
    "    df['Yrs Since Remod/Add'] = df['Yr Sold'] - df['Year Remod/Add']\n",
    "    df['House Age'] = df['Yr Sold'] - df['Year Built']\n",
    "    \n",
    "    #Dropping Data Leak and Useless columns\n",
    "    df.drop(drop_columns,axis=1,inplace=True)\n",
    "    \n",
    "    #Transforming object data in categorical dummies\n",
    "    ordinal_columns = ['Lot Shape','Utilities', 'Land Slope', 'Overall Qual', 'Overall Cond', 'Exter Qual', 'Exter Cond', 'Bsmt Qual', 'Bsmt Cond', 'Bsmt Exposure', 'BsmtFin Type 1', 'BsmtFin Type 2', 'Heating QC', 'Electrical', 'Kitchen Qual', 'Functional', 'Fireplace Qu', 'Garage Finish', 'Garage Qual', 'Garage Cond', 'Paved Drive', 'Pool QC', 'Fence']\n",
    "    #lets not make a list of columns we already removed\n",
    "    ordinal_columns = [i for i in ordinal_columns if i not in null_df_greater25.index]\n",
    "    #lets remove the columns that are already in 1-10 order, because these will not be mapped\n",
    "    ordinal_columns = [ i for i in ordinal_columns if i not in ['Overall Qual', 'Overall Cond']]\n",
    "    #Lets use our mapping above for transforming these ordinal columns\n",
    "    for col in ordinal_columns:\n",
    "        df[col] = df[col].map(map_dict[col])\n",
    "    \n",
    "    #Lets transform the rest of these using One Hot Encoding and get_dummies\n",
    "    df = pd.get_dummies(df)\n",
    "    \n",
    "    return df\n",
    "\n",
    "def select_features(df):\n",
    "    corr_gre_4 = df.corrwith(df['SalePrice']).abs().sort_values(ascending=False) > 0.4\n",
    "    features = corr_gre_4[corr_gre_4 > .4].index\n",
    "    return df[features]\n",
    "\n",
    "def train_and_test(df,k=0):  \n",
    "    lr = linear_model.LinearRegression()\n",
    "    features = df.drop('SalePrice',axis=1).columns\n",
    "    \n",
    "    if k == 0:\n",
    "        train = df[:1460]\n",
    "        test = df[1460:]\n",
    "\n",
    "        lr.fit(train[features], train[\"SalePrice\"])\n",
    "        predictions = lr.predict(test[features])\n",
    "        mse = mean_squared_error(test[\"SalePrice\"], predictions)\n",
    "        rmse = np.sqrt(mse)\n",
    "\n",
    "        sns.regplot(x=predictions,y=test['SalePrice'])\n",
    "\n",
    "        return rmse\n",
    "    \n",
    "    elif k == 1:\n",
    "        df = df.sample(frac=1).reset_index(drop=True)\n",
    "        fold_one = df[0:1460]\n",
    "        fold_two = df[1460:]\n",
    "        \n",
    "        fold_one_train = lr.fit(fold_one[features], fold_one['SalePrice'])\n",
    "        fold_one_predict = lr.predict(fold_two[features])\n",
    "        fold_one_rmse = np.sqrt(mean_squared_error(fold_two['SalePrice'],fold_one_predict))\n",
    "        \n",
    "        fold_two_train = lr.fit(fold_two[features], fold_two['SalePrice'])\n",
    "        fold_two_predict = lr.predict(fold_one[features])\n",
    "        fold_two_rmse = np.sqrt(mean_squared_error(fold_one['SalePrice'],fold_two_predict))\n",
    "        \n",
    "        return np.mean([fold_one_rmse,fold_two_rmse])\n",
    "    \n",
    "    elif k > 1:\n",
    "        kf = KFold(k,shuffle=True)\n",
    "        mses = cross_val_score(lr,data[features],data['SalePrice'], scoring=\"neg_mean_squared_error\", cv=kf)\n",
    "        rmses = np.abs(mses)**(1/2)\n",
    "        return rmses"
   ]
  },
  {
   "cell_type": "code",
   "execution_count": 22,
   "metadata": {
    "collapsed": false
   },
   "outputs": [
    {
     "data": {
      "text/plain": [
       "33256.403733942796"
      ]
     },
     "execution_count": 22,
     "metadata": {},
     "output_type": "execute_result"
    }
   ],
   "source": [
    "data = pd.read_csv(\"AmesHousing.tsv\",delimiter='\\t')\n",
    "data = transform_features(data)\n",
    "data = select_features(data)\n",
    "\n",
    "np.mean(train_and_test(data,10))"
   ]
  },
  {
   "cell_type": "code",
   "execution_count": 30,
   "metadata": {
    "collapsed": false
   },
   "outputs": [
    {
     "data": {
      "text/plain": [
       "<matplotlib.axes._subplots.AxesSubplot at 0x7f88801092e8>"
      ]
     },
     "execution_count": 30,
     "metadata": {},
     "output_type": "execute_result"
    },
    {
     "data": {
      "image/png": "[encoded data removed]",
      "text/plain": [
       "<matplotlib.figure.Figure at 0x7f88801da940>"
      ]
     },
     "metadata": {},
     "output_type": "display_data"
    }
   ],
   "source": [
    "sns.distplot(np.log(data['SalePrice']))"
   ]
  },
  {
   "cell_type": "code",
   "execution_count": null,
   "metadata": {
    "collapsed": true
   },
   "outputs": [],
   "source": []
  }
 ],
 "metadata": {
  "anaconda-cloud": {},
  "kernelspec": {
   "display_name": "Python 3",
   "language": "python",
   "name": "python3"
  },
  "language_info": {
   "codemirror_mode": {
    "name": "ipython",
    "version": 3
   },
   "file_extension": ".py",
   "mimetype": "text/x-python",
   "name": "python",
   "nbconvert_exporter": "python",
   "pygments_lexer": "ipython3",
   "version": "3.4.3"
  }
 },
 "nbformat": 4,
 "nbformat_minor": 2
}
