{
 "cells": [
  {
   "cell_type": "markdown",
   "metadata": {
    "collapsed": true
   },
   "source": [
    "# Analyzing Movie Reviews\n",
    "Analyzing movie reviews to determine if there is a bias among different movie rating websites. "
   ]
  },
  {
   "cell_type": "code",
   "execution_count": 40,
   "metadata": {
    "collapsed": true
   },
   "outputs": [],
   "source": [
    "import numpy as np\n",
    "import pandas as pd\n",
    "import matplotlib\n",
    "import matplotlib.pyplot as plt\n",
    "from scipy import stats\n",
    "%matplotlib inline"
   ]
  },
  {
   "cell_type": "code",
   "execution_count": 2,
   "metadata": {
    "collapsed": true
   },
   "outputs": [],
   "source": [
    "movies = pd.read_csv(\"fandango_score_comparison.csv\")"
   ]
  },
  {
   "cell_type": "code",
   "execution_count": 3,
   "metadata": {
    "collapsed": false
   },
   "outputs": [
    {
     "name": "stdout",
     "output_type": "stream",
     "text": [
      "(146, 22)\n",
      "Index(['FILM', 'RottenTomatoes', 'RottenTomatoes_User', 'Metacritic',\n",
      "       'Metacritic_User', 'IMDB', 'Fandango_Stars', 'Fandango_Ratingvalue',\n",
      "       'RT_norm', 'RT_user_norm', 'Metacritic_norm', 'Metacritic_user_nom',\n",
      "       'IMDB_norm', 'RT_norm_round', 'RT_user_norm_round',\n",
      "       'Metacritic_norm_round', 'Metacritic_user_norm_round',\n",
      "       'IMDB_norm_round', 'Metacritic_user_vote_count', 'IMDB_user_vote_count',\n",
      "       'Fandango_votes', 'Fandango_Difference'],\n",
      "      dtype='object')\n",
      "       RottenTomatoes  RottenTomatoes_User  Metacritic  Metacritic_User  \\\n",
      "count      146.000000           146.000000  146.000000       146.000000   \n",
      "mean        60.849315            63.876712   58.808219         6.519178   \n",
      "std         30.168799            20.024430   19.517389         1.510712   \n",
      "min          5.000000            20.000000   13.000000         2.400000   \n",
      "25%         31.250000            50.000000   43.500000         5.700000   \n",
      "50%         63.500000            66.500000   59.000000         6.850000   \n",
      "75%         89.000000            81.000000   75.000000         7.500000   \n",
      "max        100.000000            94.000000   94.000000         9.600000   \n",
      "\n",
      "             IMDB  Fandango_Stars  Fandango_Ratingvalue     RT_norm  \\\n",
      "count  146.000000      146.000000            146.000000  146.000000   \n",
      "mean     6.736986        4.089041              3.845205    3.042466   \n",
      "std      0.958736        0.540386              0.502831    1.508440   \n",
      "min      4.000000        3.000000              2.700000    0.250000   \n",
      "25%      6.300000        3.500000              3.500000    1.562500   \n",
      "50%      6.900000        4.000000              3.900000    3.175000   \n",
      "75%      7.400000        4.500000              4.200000    4.450000   \n",
      "max      8.600000        5.000000              4.800000    5.000000   \n",
      "\n",
      "       RT_user_norm  Metacritic_norm         ...            IMDB_norm  \\\n",
      "count    146.000000       146.000000         ...           146.000000   \n",
      "mean       3.193836         2.940411         ...             3.368493   \n",
      "std        1.001222         0.975869         ...             0.479368   \n",
      "min        1.000000         0.650000         ...             2.000000   \n",
      "25%        2.500000         2.175000         ...             3.150000   \n",
      "50%        3.325000         2.950000         ...             3.450000   \n",
      "75%        4.050000         3.750000         ...             3.700000   \n",
      "max        4.700000         4.700000         ...             4.300000   \n",
      "\n",
      "       RT_norm_round  RT_user_norm_round  Metacritic_norm_round  \\\n",
      "count     146.000000          146.000000             146.000000   \n",
      "mean        3.065068            3.226027               2.972603   \n",
      "std         1.514600            1.007014               0.990961   \n",
      "min         0.500000            1.000000               0.500000   \n",
      "25%         1.500000            2.500000               2.125000   \n",
      "50%         3.000000            3.500000               3.000000   \n",
      "75%         4.500000            4.000000               4.000000   \n",
      "max         5.000000            4.500000               4.500000   \n",
      "\n",
      "       Metacritic_user_norm_round  IMDB_norm_round  \\\n",
      "count                  146.000000       146.000000   \n",
      "mean                     3.270548         3.380137   \n",
      "std                      0.788116         0.502767   \n",
      "min                      1.000000         2.000000   \n",
      "25%                      3.000000         3.000000   \n",
      "50%                      3.500000         3.500000   \n",
      "75%                      4.000000         3.500000   \n",
      "max                      5.000000         4.500000   \n",
      "\n",
      "       Metacritic_user_vote_count  IMDB_user_vote_count  Fandango_votes  \\\n",
      "count                  146.000000            146.000000      146.000000   \n",
      "mean                   185.705479          42846.205479     3848.787671   \n",
      "std                    316.606515          67406.509171     6357.778617   \n",
      "min                      4.000000            243.000000       35.000000   \n",
      "25%                     33.250000           5627.000000      222.250000   \n",
      "50%                     72.500000          19103.000000     1446.000000   \n",
      "75%                    168.500000          45185.750000     4439.500000   \n",
      "max                   2375.000000         334164.000000    34846.000000   \n",
      "\n",
      "       Fandango_Difference  \n",
      "count           146.000000  \n",
      "mean              0.243836  \n",
      "std               0.152665  \n",
      "min               0.000000  \n",
      "25%               0.100000  \n",
      "50%               0.200000  \n",
      "75%               0.400000  \n",
      "max               0.500000  \n",
      "\n",
      "[8 rows x 21 columns]\n"
     ]
    }
   ],
   "source": [
    "print(movies.shape)\n",
    "print(movies.columns)\n",
    "print(movies.describe())"
   ]
  },
  {
   "cell_type": "markdown",
   "metadata": {},
   "source": [
    "## Analyzing Reviews between Metacritic and Fandango"
   ]
  },
  {
   "cell_type": "code",
   "execution_count": 4,
   "metadata": {
    "collapsed": false
   },
   "outputs": [
    {
     "data": {
      "image/png": "[encoded data removed]",
      "text/plain": [
       "<matplotlib.figure.Figure at 0x7f9978c24e48>"
      ]
     },
     "metadata": {},
     "output_type": "display_data"
    }
   ],
   "source": [
    "fig, axes = plt.subplots(nrows=1,ncols=2,figsize=(10,4))\n",
    "for ax in axes:\n",
    "    ax.set_xlim(0,5)\n",
    "axes[0].set_title(\"Metacritic Normalized Reviews\")\n",
    "axes[0].hist(movies['Metacritic_norm_round'],5)\n",
    "axes[1].set_title(\"Fandango Reviews\")\n",
    "axes[1].hist(movies['Fandango_Stars'],5)\n",
    "plt.show()"
   ]
  },
  {
   "cell_type": "markdown",
   "metadata": {},
   "source": [
    "Fandango appears to be skewed negatively while Metacritic appears to not have a skew. Fandango ratings are always over 3."
   ]
  },
  {
   "cell_type": "code",
   "execution_count": 17,
   "metadata": {
    "collapsed": false,
    "scrolled": true
   },
   "outputs": [
    {
     "name": "stdout",
     "output_type": "stream",
     "text": [
      "Fandango Stars Descriptive Stats\n",
      "count    146.000000\n",
      "mean       4.089041\n",
      "std        0.540386\n",
      "min        3.000000\n",
      "25%        3.500000\n",
      "50%        4.000000\n",
      "75%        4.500000\n",
      "max        5.000000\n",
      "Name: Fandango_Stars, dtype: float64\n",
      "\n",
      "Metacritic Descriptive Stats\n",
      "count    146.000000\n",
      "mean       2.972603\n",
      "std        0.990961\n",
      "min        0.500000\n",
      "25%        2.125000\n",
      "50%        3.000000\n",
      "75%        4.000000\n",
      "max        4.500000\n",
      "Name: Metacritic_norm_round, dtype: float64\n"
     ]
    },
    {
     "data": {
      "text/plain": [
       "0      3.5\n",
       "1      3.5\n",
       "2      3.0\n",
       "3      1.0\n",
       "4      1.5\n",
       "5      2.5\n",
       "6      2.5\n",
       "7      4.0\n",
       "8      4.0\n",
       "9      4.0\n",
       "10     3.5\n",
       "11     3.0\n",
       "12     4.5\n",
       "13     3.0\n",
       "14     3.5\n",
       "15     1.5\n",
       "16     2.5\n",
       "17     3.0\n",
       "18     2.5\n",
       "19     1.5\n",
       "20     3.0\n",
       "21     2.5\n",
       "22     3.0\n",
       "23     3.0\n",
       "24     4.0\n",
       "25     4.5\n",
       "26     4.0\n",
       "27     3.5\n",
       "28     4.0\n",
       "29     4.0\n",
       "      ... \n",
       "116    4.0\n",
       "117    4.0\n",
       "118    3.0\n",
       "119    4.5\n",
       "120    4.0\n",
       "121    3.5\n",
       "122    4.5\n",
       "123    3.0\n",
       "124    3.0\n",
       "125    2.0\n",
       "126    2.5\n",
       "127    3.0\n",
       "128    4.0\n",
       "129    4.5\n",
       "130    3.0\n",
       "131    3.0\n",
       "132    2.5\n",
       "133    0.5\n",
       "134    1.5\n",
       "135    1.5\n",
       "136    2.0\n",
       "137    3.0\n",
       "138    2.5\n",
       "139    2.0\n",
       "140    4.5\n",
       "141    3.5\n",
       "142    4.0\n",
       "143    4.5\n",
       "144    4.5\n",
       "145    3.5\n",
       "Name: Metacritic_norm_round, dtype: float64"
      ]
     },
     "execution_count": 17,
     "metadata": {},
     "output_type": "execute_result"
    }
   ],
   "source": [
    "print('Fandango Stars Descriptive Stats')\n",
    "print(movies['Fandango_Stars'].describe())\n",
    "print('\\nMetacritic Descriptive Stats')\n",
    "print(movies['Metacritic_norm_round'].describe())\n",
    "movies['Metacritic_norm_round']"
   ]
  },
  {
   "cell_type": "markdown",
   "metadata": {},
   "source": [
    "**Mean and Median**\n",
    "\n",
    "Fandango's median is 4 which is lower than its Mean of 4.089 which is caused by the skewness of the data to the right. However, it is still very close.\n",
    "Metacritic median of 3 is higher than the mean of 2.973 which is caused by a few lower reviews bring down the mean. \n",
    "\n",
    "**Standard Deviation**\n",
    "\n",
    "Fandango has a lower standard deviation of .540 while Metacritic has a std of .991 . This gives us a hint that Fandangos reviews do not vary as much as Metacritics reviews do and we can see this in the Histograms above.\n",
    "\n",
    "** Why are Fandango's reviews higher and less variant**\n",
    "I wasn't able to find the Fandango review methodology on the Fandango website. I did find a good amount of claims (and our data seems to support this so far) that Fandango rounds up their movie ratings."
   ]
  },
  {
   "cell_type": "code",
   "execution_count": 18,
   "metadata": {
    "collapsed": false
   },
   "outputs": [
    {
     "data": {
      "text/plain": [
       "<matplotlib.collections.PathCollection at 0x7f99ed3fbbe0>"
      ]
     },
     "execution_count": 18,
     "metadata": {},
     "output_type": "execute_result"
    },
    {
     "data": {
      "image/png": "[encoded data removed]",
      "text/plain": [
       "<matplotlib.figure.Figure at 0x7f9978c249b0>"
      ]
     },
     "metadata": {},
     "output_type": "display_data"
    }
   ],
   "source": [
    "plt.scatter(x=movies['Fandango_Stars'],y=movies['Metacritic_norm_round'])"
   ]
  },
  {
   "cell_type": "code",
   "execution_count": 19,
   "metadata": {
    "collapsed": true
   },
   "outputs": [],
   "source": [
    "movies['fm_diff'] = movies['Metacritic_norm_round'] - movies['Fandango_Stars']"
   ]
  },
  {
   "cell_type": "code",
   "execution_count": 22,
   "metadata": {
    "collapsed": false
   },
   "outputs": [],
   "source": [
    "movies['fm_diff'] = movies['fm_diff'].apply(lambda x : abs(x))"
   ]
  },
  {
   "cell_type": "code",
   "execution_count": 36,
   "metadata": {
    "collapsed": false
   },
   "outputs": [
    {
     "data": {
      "text/html": [
       "<div>\n",
       "<table border=\"1\" class=\"dataframe\">\n",
       "  <thead>\n",
       "    <tr style=\"text-align: right;\">\n",
       "      <th></th>\n",
       "      <th>FILM</th>\n",
       "      <th>RottenTomatoes</th>\n",
       "      <th>RottenTomatoes_User</th>\n",
       "      <th>Metacritic</th>\n",
       "      <th>Metacritic_User</th>\n",
       "      <th>IMDB</th>\n",
       "      <th>Fandango_Stars</th>\n",
       "      <th>Fandango_Ratingvalue</th>\n",
       "      <th>RT_norm</th>\n",
       "      <th>RT_user_norm</th>\n",
       "      <th>...</th>\n",
       "      <th>RT_norm_round</th>\n",
       "      <th>RT_user_norm_round</th>\n",
       "      <th>Metacritic_norm_round</th>\n",
       "      <th>Metacritic_user_norm_round</th>\n",
       "      <th>IMDB_norm_round</th>\n",
       "      <th>Metacritic_user_vote_count</th>\n",
       "      <th>IMDB_user_vote_count</th>\n",
       "      <th>Fandango_votes</th>\n",
       "      <th>Fandango_Difference</th>\n",
       "      <th>fm_diff</th>\n",
       "    </tr>\n",
       "  </thead>\n",
       "  <tbody>\n",
       "    <tr>\n",
       "      <th>3</th>\n",
       "      <td>Do You Believe? (2015)</td>\n",
       "      <td>18</td>\n",
       "      <td>84</td>\n",
       "      <td>22</td>\n",
       "      <td>4.7</td>\n",
       "      <td>5.4</td>\n",
       "      <td>5.0</td>\n",
       "      <td>4.5</td>\n",
       "      <td>0.90</td>\n",
       "      <td>4.20</td>\n",
       "      <td>...</td>\n",
       "      <td>1.0</td>\n",
       "      <td>4.0</td>\n",
       "      <td>1.0</td>\n",
       "      <td>2.5</td>\n",
       "      <td>2.5</td>\n",
       "      <td>31</td>\n",
       "      <td>3136</td>\n",
       "      <td>1793</td>\n",
       "      <td>0.5</td>\n",
       "      <td>4.0</td>\n",
       "    </tr>\n",
       "    <tr>\n",
       "      <th>85</th>\n",
       "      <td>Little Boy (2015)</td>\n",
       "      <td>20</td>\n",
       "      <td>81</td>\n",
       "      <td>30</td>\n",
       "      <td>5.9</td>\n",
       "      <td>7.4</td>\n",
       "      <td>4.5</td>\n",
       "      <td>4.3</td>\n",
       "      <td>1.00</td>\n",
       "      <td>4.05</td>\n",
       "      <td>...</td>\n",
       "      <td>1.0</td>\n",
       "      <td>4.0</td>\n",
       "      <td>1.5</td>\n",
       "      <td>3.0</td>\n",
       "      <td>3.5</td>\n",
       "      <td>38</td>\n",
       "      <td>5927</td>\n",
       "      <td>811</td>\n",
       "      <td>0.2</td>\n",
       "      <td>3.0</td>\n",
       "    </tr>\n",
       "    <tr>\n",
       "      <th>47</th>\n",
       "      <td>Annie (2014)</td>\n",
       "      <td>27</td>\n",
       "      <td>61</td>\n",
       "      <td>33</td>\n",
       "      <td>4.8</td>\n",
       "      <td>5.2</td>\n",
       "      <td>4.5</td>\n",
       "      <td>4.2</td>\n",
       "      <td>1.35</td>\n",
       "      <td>3.05</td>\n",
       "      <td>...</td>\n",
       "      <td>1.5</td>\n",
       "      <td>3.0</td>\n",
       "      <td>1.5</td>\n",
       "      <td>2.5</td>\n",
       "      <td>2.5</td>\n",
       "      <td>108</td>\n",
       "      <td>19222</td>\n",
       "      <td>6835</td>\n",
       "      <td>0.3</td>\n",
       "      <td>3.0</td>\n",
       "    </tr>\n",
       "    <tr>\n",
       "      <th>19</th>\n",
       "      <td>Pixels (2015)</td>\n",
       "      <td>17</td>\n",
       "      <td>54</td>\n",
       "      <td>27</td>\n",
       "      <td>5.3</td>\n",
       "      <td>5.6</td>\n",
       "      <td>4.5</td>\n",
       "      <td>4.1</td>\n",
       "      <td>0.85</td>\n",
       "      <td>2.70</td>\n",
       "      <td>...</td>\n",
       "      <td>1.0</td>\n",
       "      <td>2.5</td>\n",
       "      <td>1.5</td>\n",
       "      <td>2.5</td>\n",
       "      <td>3.0</td>\n",
       "      <td>246</td>\n",
       "      <td>19521</td>\n",
       "      <td>3886</td>\n",
       "      <td>0.4</td>\n",
       "      <td>3.0</td>\n",
       "    </tr>\n",
       "    <tr>\n",
       "      <th>134</th>\n",
       "      <td>The Longest Ride (2015)</td>\n",
       "      <td>31</td>\n",
       "      <td>73</td>\n",
       "      <td>33</td>\n",
       "      <td>4.8</td>\n",
       "      <td>7.2</td>\n",
       "      <td>4.5</td>\n",
       "      <td>4.5</td>\n",
       "      <td>1.55</td>\n",
       "      <td>3.65</td>\n",
       "      <td>...</td>\n",
       "      <td>1.5</td>\n",
       "      <td>3.5</td>\n",
       "      <td>1.5</td>\n",
       "      <td>2.5</td>\n",
       "      <td>3.5</td>\n",
       "      <td>49</td>\n",
       "      <td>25214</td>\n",
       "      <td>2603</td>\n",
       "      <td>0.0</td>\n",
       "      <td>3.0</td>\n",
       "    </tr>\n",
       "  </tbody>\n",
       "</table>\n",
       "<p>5 rows × 23 columns</p>\n",
       "</div>"
      ],
      "text/plain": [
       "                        FILM  RottenTomatoes  RottenTomatoes_User  Metacritic  \\\n",
       "3     Do You Believe? (2015)              18                   84          22   \n",
       "85         Little Boy (2015)              20                   81          30   \n",
       "47              Annie (2014)              27                   61          33   \n",
       "19             Pixels (2015)              17                   54          27   \n",
       "134  The Longest Ride (2015)              31                   73          33   \n",
       "\n",
       "     Metacritic_User  IMDB  Fandango_Stars  Fandango_Ratingvalue  RT_norm  \\\n",
       "3                4.7   5.4             5.0                   4.5     0.90   \n",
       "85               5.9   7.4             4.5                   4.3     1.00   \n",
       "47               4.8   5.2             4.5                   4.2     1.35   \n",
       "19               5.3   5.6             4.5                   4.1     0.85   \n",
       "134              4.8   7.2             4.5                   4.5     1.55   \n",
       "\n",
       "     RT_user_norm   ...     RT_norm_round  RT_user_norm_round  \\\n",
       "3            4.20   ...               1.0                 4.0   \n",
       "85           4.05   ...               1.0                 4.0   \n",
       "47           3.05   ...               1.5                 3.0   \n",
       "19           2.70   ...               1.0                 2.5   \n",
       "134          3.65   ...               1.5                 3.5   \n",
       "\n",
       "     Metacritic_norm_round  Metacritic_user_norm_round  IMDB_norm_round  \\\n",
       "3                      1.0                         2.5              2.5   \n",
       "85                     1.5                         3.0              3.5   \n",
       "47                     1.5                         2.5              2.5   \n",
       "19                     1.5                         2.5              3.0   \n",
       "134                    1.5                         2.5              3.5   \n",
       "\n",
       "     Metacritic_user_vote_count  IMDB_user_vote_count  Fandango_votes  \\\n",
       "3                            31                  3136            1793   \n",
       "85                           38                  5927             811   \n",
       "47                          108                 19222            6835   \n",
       "19                          246                 19521            3886   \n",
       "134                          49                 25214            2603   \n",
       "\n",
       "     Fandango_Difference  fm_diff  \n",
       "3                    0.5      4.0  \n",
       "85                   0.2      3.0  \n",
       "47                   0.3      3.0  \n",
       "19                   0.4      3.0  \n",
       "134                  0.0      3.0  \n",
       "\n",
       "[5 rows x 23 columns]"
      ]
     },
     "execution_count": 36,
     "metadata": {},
     "output_type": "execute_result"
    }
   ],
   "source": [
    "movies.sort_values('fm_diff',ascending=False)[0:5]"
   ]
  },
  {
   "cell_type": "markdown",
   "metadata": {},
   "source": [
    "### Exploring Correlation and Prediction for Fandango Stars and Metacritic Reviews"
   ]
  },
  {
   "cell_type": "code",
   "execution_count": 43,
   "metadata": {
    "collapsed": false
   },
   "outputs": [
    {
     "data": {
      "text/plain": [
       "0.17844919073895918"
      ]
     },
     "execution_count": 43,
     "metadata": {},
     "output_type": "execute_result"
    }
   ],
   "source": [
    "r_value, p_value = stats.pearsonr(movies['Fandango_Stars'],movies['Metacritic_norm_round'])\n",
    "\n",
    "r_value"
   ]
  },
  {
   "cell_type": "markdown",
   "metadata": {},
   "source": [
    "This is a fairly low correlation coefficient. This suggest that Fandango and Metacritic reviews are quite different and do not align with each other."
   ]
  },
  {
   "cell_type": "code",
   "execution_count": 82,
   "metadata": {
    "collapsed": false
   },
   "outputs": [],
   "source": [
    "slope, intercept, r_value, p_value, stderr_slope = stats.linregress(movies[\"Metacritic_norm_round\"], movies[\"Fandango_Stars\"])"
   ]
  },
  {
   "cell_type": "code",
   "execution_count": 83,
   "metadata": {
    "collapsed": false
   },
   "outputs": [
    {
     "data": {
      "text/plain": [
       "4.0917071528212041"
      ]
     },
     "execution_count": 83,
     "metadata": {},
     "output_type": "execute_result"
    }
   ],
   "source": [
    "pred_3 = 3*slope + intercept\n",
    "pred_3"
   ]
  },
  {
   "cell_type": "code",
   "execution_count": 84,
   "metadata": {
    "collapsed": false
   },
   "outputs": [
    {
     "name": "stdout",
     "output_type": "stream",
     "text": [
      "3.89708499687\n",
      "4.28632930877\n"
     ]
    }
   ],
   "source": [
    "print(1*slope + intercept)\n",
    "print(5*slope + intercept)"
   ]
  },
  {
   "cell_type": "code",
   "execution_count": 86,
   "metadata": {
    "collapsed": false
   },
   "outputs": [
    {
     "data": {
      "image/png": "[encoded data removed]",
      "text/plain": [
       "<matplotlib.figure.Figure at 0x7f996d9564a8>"
      ]
     },
     "metadata": {},
     "output_type": "display_data"
    }
   ],
   "source": [
    "plt.scatter(movies['Metacritic_norm_round'],movies['Fandango_Stars'])\n",
    "pred_x = [1,5]\n",
    "pred_y = [i*slope + intercept for i in x]\n",
    "plt.plot(pred_x,pred_y)\n",
    "plt.xlim(1,5)\n",
    "plt.show()\n"
   ]
  },
  {
   "cell_type": "code",
   "execution_count": null,
   "metadata": {
    "collapsed": true
   },
   "outputs": [],
   "source": []
  }
 ],
 "metadata": {
  "kernelspec": {
   "display_name": "Python 3",
   "language": "python",
   "name": "python3"
  },
  "language_info": {
   "codemirror_mode": {
    "name": "ipython",
    "version": 3
   },
   "file_extension": ".py",
   "mimetype": "text/x-python",
   "name": "python",
   "nbconvert_exporter": "python",
   "pygments_lexer": "ipython3",
   "version": "3.4.3"
  }
 },
 "nbformat": 4,
 "nbformat_minor": 0
}
