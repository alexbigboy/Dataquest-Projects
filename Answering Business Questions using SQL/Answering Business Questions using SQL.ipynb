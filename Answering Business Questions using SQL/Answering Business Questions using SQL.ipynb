{
 "cells": [
  {
   "cell_type": "markdown",
   "metadata": {
    "collapsed": true
   },
   "source": [
    "# Guided Project : Answering Business Questions Using SQL"
   ]
  },
  {
   "cell_type": "code",
   "execution_count": 1,
   "metadata": {
    "collapsed": false
   },
   "outputs": [],
   "source": [
    "#Importing necessary modules\n",
    "import pandas as pd\n",
    "import numpy as np\n",
    "import sqlite3\n",
    "import matplotlib\n",
    "import matplotlib.pyplot as plt\n",
    "%matplotlib inline"
   ]
  },
  {
   "cell_type": "code",
   "execution_count": 2,
   "metadata": {
    "collapsed": false
   },
   "outputs": [],
   "source": [
    "def run_query(query):\n",
    "    with sqlite3.connect('chinook.db') as conn:\n",
    "        return pd.read_sql(query,conn)\n",
    "\n",
    "def run_command(c):\n",
    "    with sqlite3.connect('chinook.db') as conn:\n",
    "        conn.isolation_level = None\n",
    "        conn.execute(c)\n",
    "        \n",
    "def show_tables():\n",
    "    q = '''\n",
    "    SELECT\n",
    "        name,\n",
    "        type\n",
    "    FROM sqlite_master\n",
    "    WHERE type IN (\"table\",\"view\");\n",
    "    '''\n",
    "    return run_query(q)"
   ]
  },
  {
   "cell_type": "code",
   "execution_count": 3,
   "metadata": {
    "collapsed": false
   },
   "outputs": [
    {
     "data": {
      "text/html": [
       "<div>\n",
       "<table border=\"1\" class=\"dataframe\">\n",
       "  <thead>\n",
       "    <tr style=\"text-align: right;\">\n",
       "      <th></th>\n",
       "      <th>name</th>\n",
       "      <th>type</th>\n",
       "    </tr>\n",
       "  </thead>\n",
       "  <tbody>\n",
       "    <tr>\n",
       "      <th>0</th>\n",
       "      <td>album</td>\n",
       "      <td>table</td>\n",
       "    </tr>\n",
       "    <tr>\n",
       "      <th>1</th>\n",
       "      <td>artist</td>\n",
       "      <td>table</td>\n",
       "    </tr>\n",
       "    <tr>\n",
       "      <th>2</th>\n",
       "      <td>customer</td>\n",
       "      <td>table</td>\n",
       "    </tr>\n",
       "    <tr>\n",
       "      <th>3</th>\n",
       "      <td>employee</td>\n",
       "      <td>table</td>\n",
       "    </tr>\n",
       "    <tr>\n",
       "      <th>4</th>\n",
       "      <td>genre</td>\n",
       "      <td>table</td>\n",
       "    </tr>\n",
       "    <tr>\n",
       "      <th>5</th>\n",
       "      <td>invoice</td>\n",
       "      <td>table</td>\n",
       "    </tr>\n",
       "    <tr>\n",
       "      <th>6</th>\n",
       "      <td>invoice_line</td>\n",
       "      <td>table</td>\n",
       "    </tr>\n",
       "    <tr>\n",
       "      <th>7</th>\n",
       "      <td>media_type</td>\n",
       "      <td>table</td>\n",
       "    </tr>\n",
       "    <tr>\n",
       "      <th>8</th>\n",
       "      <td>playlist</td>\n",
       "      <td>table</td>\n",
       "    </tr>\n",
       "    <tr>\n",
       "      <th>9</th>\n",
       "      <td>playlist_track</td>\n",
       "      <td>table</td>\n",
       "    </tr>\n",
       "    <tr>\n",
       "      <th>10</th>\n",
       "      <td>track</td>\n",
       "      <td>table</td>\n",
       "    </tr>\n",
       "    <tr>\n",
       "      <th>11</th>\n",
       "      <td>country_cust_count</td>\n",
       "      <td>view</td>\n",
       "    </tr>\n",
       "  </tbody>\n",
       "</table>\n",
       "</div>"
      ],
      "text/plain": [
       "                  name   type\n",
       "0                album  table\n",
       "1               artist  table\n",
       "2             customer  table\n",
       "3             employee  table\n",
       "4                genre  table\n",
       "5              invoice  table\n",
       "6         invoice_line  table\n",
       "7           media_type  table\n",
       "8             playlist  table\n",
       "9       playlist_track  table\n",
       "10               track  table\n",
       "11  country_cust_count   view"
      ]
     },
     "execution_count": 3,
     "metadata": {},
     "output_type": "execute_result"
    }
   ],
   "source": [
    "show_tables()"
   ]
  },
  {
   "cell_type": "markdown",
   "metadata": {},
   "source": [
    "## Finding Highest Selling Genre in US\n",
    "Writing a query to help us decide which Artist we should purchase for our stores based on genre sales\n",
    "\n",
    "Options :\n",
    "\n",
    "Regal\tHip-Hop\n",
    "\n",
    "Red Tone\tPunk\n",
    "\n",
    "Meteor and the Girls\tPop\n",
    "\n",
    "Slim Jim Bites\tBlues"
   ]
  },
  {
   "cell_type": "code",
   "execution_count": 4,
   "metadata": {
    "collapsed": false,
    "scrolled": true
   },
   "outputs": [
    {
     "data": {
      "text/plain": [
       "<matplotlib.figure.Figure at 0x7fbbf5aad358>"
      ]
     },
     "metadata": {},
     "output_type": "display_data"
    },
    {
     "data": {
      "image/png": "[encoded data removed]",
      "text/plain": [
       "<matplotlib.figure.Figure at 0x7fbb7e2d5e80>"
      ]
     },
     "metadata": {},
     "output_type": "display_data"
    }
   ],
   "source": [
    "query = '''\n",
    "WITH sold AS\n",
    "    (SELECT SUM(il.quantity) total_sold\n",
    "    FROM invoice_line il)\n",
    "\n",
    "SELECT \n",
    "    g.name genre_name, \n",
    "    SUM(il.quantity) genre_sold,\n",
    "    CAST(SUM(il.quantity) as float)/CAST((SELECT * FROM sold) as float)*100 percentage_of_total\n",
    "FROM genre g  \n",
    "    LEFT JOIN track t ON g.genre_id = t.genre_id\n",
    "    INNER JOIN invoice_line il ON il.track_id = t.track_id\n",
    "    GROUP BY 1\n",
    "    ORDER BY 2 DESC\n",
    "'''\n",
    "genre_sold_total = run_query(query)\n",
    "genre_sold_total.set_index(\"genre_name\",drop=True,inplace=True)\n",
    "\n",
    "fig = plt.figure()\n",
    "genre_sold_total[['genre_sold']].plot.barh(colormap=plt.cm.Accent)\n",
    "\n",
    "for i, label in enumerate(list(genre_sold_total.index)):\n",
    "    score = genre_sold_total.loc[label, \"genre_sold\"]\n",
    "    label = (genre_sold_total.loc[label, \"percentage_of_total\"]\n",
    "            ).astype(int).astype(str) + \"%\"\n",
    "    plt.annotate(str(label), (score + 10, i - 0.15))"
   ]
  },
  {
   "cell_type": "markdown",
   "metadata": {
    "collapsed": true
   },
   "source": [
    "Rock is hands-down the most popular selling genre. Out of the available genres for the 4 artist we could purchase, Alternative & Punk is the highest selling.\n",
    "\n",
    "We should purchase Red Tone based on this data"
   ]
  },
  {
   "cell_type": "markdown",
   "metadata": {},
   "source": [
    "## Total Sale Amount per Agent"
   ]
  },
  {
   "cell_type": "code",
   "execution_count": 5,
   "metadata": {
    "collapsed": false
   },
   "outputs": [
    {
     "data": {
      "text/html": [
       "<div>\n",
       "<table border=\"1\" class=\"dataframe\">\n",
       "  <thead>\n",
       "    <tr style=\"text-align: right;\">\n",
       "      <th></th>\n",
       "      <th>Sales_Agent</th>\n",
       "      <th>title</th>\n",
       "      <th>total_sold</th>\n",
       "    </tr>\n",
       "  </thead>\n",
       "  <tbody>\n",
       "    <tr>\n",
       "      <th>0</th>\n",
       "      <td>Jane Peacock</td>\n",
       "      <td>Sales Support Agent</td>\n",
       "      <td>1731.51</td>\n",
       "    </tr>\n",
       "    <tr>\n",
       "      <th>1</th>\n",
       "      <td>Margaret Park</td>\n",
       "      <td>Sales Support Agent</td>\n",
       "      <td>1584.00</td>\n",
       "    </tr>\n",
       "    <tr>\n",
       "      <th>2</th>\n",
       "      <td>Steve Johnson</td>\n",
       "      <td>Sales Support Agent</td>\n",
       "      <td>1393.92</td>\n",
       "    </tr>\n",
       "  </tbody>\n",
       "</table>\n",
       "</div>"
      ],
      "text/plain": [
       "     Sales_Agent                title  total_sold\n",
       "0   Jane Peacock  Sales Support Agent     1731.51\n",
       "1  Margaret Park  Sales Support Agent     1584.00\n",
       "2  Steve Johnson  Sales Support Agent     1393.92"
      ]
     },
     "execution_count": 5,
     "metadata": {},
     "output_type": "execute_result"
    }
   ],
   "source": [
    "query = '''\n",
    "WITH sales_agents AS\n",
    "    (\n",
    "        SELECT \n",
    "            e1.first_name || ' ' || e1.last_name Sales_Agent,\n",
    "            e1.title title,\n",
    "            e2.first_name || ' ' || e2.last_name Manager,\n",
    "            e1.employee_id agent_id\n",
    "        FROM employee e1 \n",
    "            LEFT JOIN employee e2 ON e1.employee_id = e2.reports_to\n",
    "        WHERE e1.title = 'Sales Support Agent'\n",
    "    ),\n",
    "    \n",
    "sa_customers AS\n",
    "    (\n",
    "        SELECT\n",
    "            s.*,\n",
    "            c.customer_id customer_id\n",
    "        FROM customer c \n",
    "            LEFT JOIN sales_agents s ON c.support_rep_id = s.agent_id\n",
    "    )\n",
    "    \n",
    "SELECT\n",
    "    s.Sales_Agent,\n",
    "    s.title,\n",
    "    SUM(i.total) total_sold\n",
    "FROM sa_customers s \n",
    "    LEFT JOIN invoice i ON s.customer_id = i.customer_id \n",
    "GROUP BY s.Sales_Agent\n",
    "'''\n",
    "\n",
    "run_query(query)"
   ]
  },
  {
   "cell_type": "code",
   "execution_count": 6,
   "metadata": {
    "collapsed": false
   },
   "outputs": [
    {
     "data": {
      "text/plain": [
       "<matplotlib.axes._subplots.AxesSubplot at 0x7fbb7e1cfef0>"
      ]
     },
     "execution_count": 6,
     "metadata": {},
     "output_type": "execute_result"
    },
    {
     "data": {
      "image/png": "[encoded data removed]",
      "text/plain": [
       "<matplotlib.figure.Figure at 0x7fbb7e1edb00>"
      ]
     },
     "metadata": {},
     "output_type": "display_data"
    }
   ],
   "source": [
    "sales_by_agent = run_query(query)\n",
    "sales_by_agent.set_index(\"Sales_Agent\",drop=True,inplace=True)\n",
    "\n",
    "sales_by_agent.plot.barh(colormap=plt.cm.Accent,legend=False)"
   ]
  },
  {
   "cell_type": "markdown",
   "metadata": {},
   "source": [
    "Jane Peacock had the highest sales by roughly 20%"
   ]
  },
  {
   "cell_type": "code",
   "execution_count": 7,
   "metadata": {
    "collapsed": false
   },
   "outputs": [
    {
     "data": {
      "text/html": [
       "<div>\n",
       "<table border=\"1\" class=\"dataframe\">\n",
       "  <thead>\n",
       "    <tr style=\"text-align: right;\">\n",
       "      <th></th>\n",
       "      <th>customer_count</th>\n",
       "      <th>total_sales</th>\n",
       "      <th>average_value</th>\n",
       "      <th>average_order</th>\n",
       "      <th>sales_per_customer</th>\n",
       "      <th>sort</th>\n",
       "    </tr>\n",
       "    <tr>\n",
       "      <th>country</th>\n",
       "      <th></th>\n",
       "      <th></th>\n",
       "      <th></th>\n",
       "      <th></th>\n",
       "      <th></th>\n",
       "      <th></th>\n",
       "    </tr>\n",
       "  </thead>\n",
       "  <tbody>\n",
       "    <tr>\n",
       "      <th>USA</th>\n",
       "      <td>13</td>\n",
       "      <td>1040.49</td>\n",
       "      <td>80.037692</td>\n",
       "      <td>7.942672</td>\n",
       "      <td>80.037692</td>\n",
       "      <td>0</td>\n",
       "    </tr>\n",
       "    <tr>\n",
       "      <th>Canada</th>\n",
       "      <td>8</td>\n",
       "      <td>535.59</td>\n",
       "      <td>66.948750</td>\n",
       "      <td>7.047237</td>\n",
       "      <td>66.948750</td>\n",
       "      <td>0</td>\n",
       "    </tr>\n",
       "    <tr>\n",
       "      <th>Brazil</th>\n",
       "      <td>5</td>\n",
       "      <td>427.68</td>\n",
       "      <td>85.536000</td>\n",
       "      <td>7.011148</td>\n",
       "      <td>85.536000</td>\n",
       "      <td>0</td>\n",
       "    </tr>\n",
       "    <tr>\n",
       "      <th>France</th>\n",
       "      <td>5</td>\n",
       "      <td>389.07</td>\n",
       "      <td>77.814000</td>\n",
       "      <td>7.781400</td>\n",
       "      <td>77.814000</td>\n",
       "      <td>0</td>\n",
       "    </tr>\n",
       "    <tr>\n",
       "      <th>Germany</th>\n",
       "      <td>4</td>\n",
       "      <td>334.62</td>\n",
       "      <td>83.655000</td>\n",
       "      <td>8.161463</td>\n",
       "      <td>83.655000</td>\n",
       "      <td>0</td>\n",
       "    </tr>\n",
       "    <tr>\n",
       "      <th>United Kingdom</th>\n",
       "      <td>3</td>\n",
       "      <td>245.52</td>\n",
       "      <td>81.840000</td>\n",
       "      <td>8.768571</td>\n",
       "      <td>81.840000</td>\n",
       "      <td>0</td>\n",
       "    </tr>\n",
       "    <tr>\n",
       "      <th>Czech Republic</th>\n",
       "      <td>2</td>\n",
       "      <td>273.24</td>\n",
       "      <td>136.620000</td>\n",
       "      <td>9.108000</td>\n",
       "      <td>136.620000</td>\n",
       "      <td>0</td>\n",
       "    </tr>\n",
       "    <tr>\n",
       "      <th>India</th>\n",
       "      <td>2</td>\n",
       "      <td>183.15</td>\n",
       "      <td>91.575000</td>\n",
       "      <td>8.721429</td>\n",
       "      <td>91.575000</td>\n",
       "      <td>0</td>\n",
       "    </tr>\n",
       "    <tr>\n",
       "      <th>Portugal</th>\n",
       "      <td>2</td>\n",
       "      <td>185.13</td>\n",
       "      <td>92.565000</td>\n",
       "      <td>6.383793</td>\n",
       "      <td>92.565000</td>\n",
       "      <td>0</td>\n",
       "    </tr>\n",
       "    <tr>\n",
       "      <th>Other</th>\n",
       "      <td>15</td>\n",
       "      <td>1094.94</td>\n",
       "      <td>72.996000</td>\n",
       "      <td>7.448571</td>\n",
       "      <td>72.996000</td>\n",
       "      <td>1</td>\n",
       "    </tr>\n",
       "  </tbody>\n",
       "</table>\n",
       "</div>"
      ],
      "text/plain": [
       "                customer_count  total_sales  average_value  average_order  \\\n",
       "country                                                                     \n",
       "USA                         13      1040.49      80.037692       7.942672   \n",
       "Canada                       8       535.59      66.948750       7.047237   \n",
       "Brazil                       5       427.68      85.536000       7.011148   \n",
       "France                       5       389.07      77.814000       7.781400   \n",
       "Germany                      4       334.62      83.655000       8.161463   \n",
       "United Kingdom               3       245.52      81.840000       8.768571   \n",
       "Czech Republic               2       273.24     136.620000       9.108000   \n",
       "India                        2       183.15      91.575000       8.721429   \n",
       "Portugal                     2       185.13      92.565000       6.383793   \n",
       "Other                       15      1094.94      72.996000       7.448571   \n",
       "\n",
       "                sales_per_customer  sort  \n",
       "country                                   \n",
       "USA                      80.037692     0  \n",
       "Canada                   66.948750     0  \n",
       "Brazil                   85.536000     0  \n",
       "France                   77.814000     0  \n",
       "Germany                  83.655000     0  \n",
       "United Kingdom           81.840000     0  \n",
       "Czech Republic          136.620000     0  \n",
       "India                    91.575000     0  \n",
       "Portugal                 92.565000     0  \n",
       "Other                    72.996000     1  "
      ]
     },
     "execution_count": 7,
     "metadata": {},
     "output_type": "execute_result"
    }
   ],
   "source": [
    "q = '''\n",
    "WITH customer_agg AS\n",
    "(\n",
    "SELECT\n",
    "    CASE WHEN\n",
    "        (SELECT COUNT(*)\n",
    "        FROM customer\n",
    "        WHERE country = c.country\n",
    "        GROUP BY country) = 1 THEN 'Other'\n",
    "        ELSE c.country\n",
    "        END AS country,\n",
    "    COUNT(distinct c.customer_Id) customer_count,\n",
    "    SUM(i.total) total_sales,\n",
    "    CAST(SUM(i.total)/COUNT(distinct c.customer_Id) as float) average_value,\n",
    "    SUM(i.total)/COUNT(i.invoice_id) average_order,\n",
    "    SUM(i.total)/COUNT(distinct c.customer_id) sales_per_customer\n",
    "FROM \n",
    "    customer c \n",
    "    INNER JOIN invoice i ON c.customer_id = i.customer_id\n",
    "GROUP BY 1\n",
    "ORDER BY 2 DESC\n",
    ")\n",
    "\n",
    "SELECT *\n",
    "FROM\n",
    "    (\n",
    "    SELECT ca.*,\n",
    "    CASE\n",
    "        WHEN ca.country = 'Other' THEN 1\n",
    "        ELSE 0\n",
    "    END AS sort\n",
    "    FROM customer_agg ca)\n",
    "ORDER BY sort ASC\n",
    "'''\n",
    "\n",
    "country_sales = run_query(q)\n",
    "country_sales.set_index(\"country\",drop=True,inplace=True)\n",
    "country_sales"
   ]
  },
  {
   "cell_type": "code",
   "execution_count": 8,
   "metadata": {
    "collapsed": false
   },
   "outputs": [
    {
     "data": {
      "image/png": "[encoded data removed]",
      "text/plain": [
       "<matplotlib.figure.Figure at 0x7fbb75bdd198>"
      ]
     },
     "metadata": {},
     "output_type": "display_data"
    }
   ],
   "source": [
    "colors = [plt.cm.Accent(i) for i in np.linspace(0, 1, country_sales.shape[0])]\n",
    "\n",
    "fig, axes = plt.subplots(2,2,figsize=(10,10))\n",
    "ax1,ax2,ax3,ax4 = axes.flatten()\n",
    "fig.subplots_adjust(hspace=.5, wspace=.3)\n",
    "\n",
    "\n",
    "#Total Sales Pie Chart\n",
    "country_sales['total_sales'].plot.pie(ax=ax1,\n",
    "    startangle=-90,\n",
    "    counterclock=False,\n",
    "    title='Sales Breakdown by Country,\\nNumber of Customers',\n",
    "    colormap=plt.cm.Accent,\n",
    "    fontsize=8,\n",
    "    wedgeprops={'linewidth':0})\n",
    "ax1.get_yaxis().set_visible(False)\n",
    "\n",
    "\n",
    "#Average Value By Country Graph\n",
    "country_sales['average_value'].plot.bar(ax=ax2,\n",
    "    color=colors,\n",
    "    title='Average Value By Country')\n",
    "ax2.tick_params(top=\"off\", right=\"off\", left=\"off\", bottom=\"off\")\n",
    "ax2.xaxis.label.set_visible(False)\n",
    "ax2.spines[\"top\"].set_visible(False)\n",
    "ax2.spines[\"right\"].set_visible(False)\n",
    "\n",
    "#Difference From Mean Graph\n",
    "country_sales['diff_from_mean'] = country_sales['average_order'] - country_sales['average_order'].mean()\n",
    "country_sales['diff_from_mean'].plot.bar(ax=ax3,\n",
    "        color=colors,\n",
    "        title='Average Order Difference From Mean')\n",
    "ax3.tick_params(top=\"off\", right=\"off\", left=\"off\", bottom=\"off\")\n",
    "ax3.xaxis.label.set_visible(False)\n",
    "ax3.spines[\"top\"].set_visible(False)\n",
    "ax3.spines[\"right\"].set_visible(False)\n",
    "\n",
    "#Sales Per Customer\n",
    "country_sales['sales_per_customer'].plot.bar(ax=ax4,\n",
    "        color=colors,\n",
    "        title='Total Sales Per Customer')\n",
    "ax4.tick_params(top=\"off\", right=\"off\", left=\"off\", bottom=\"off\")\n",
    "ax4.xaxis.label.set_visible(False)\n",
    "ax4.spines[\"top\"].set_visible(False)\n",
    "ax4.spines[\"right\"].set_visible(False)"
   ]
  },
  {
   "cell_type": "markdown",
   "metadata": {
    "collapsed": true
   },
   "source": [
    "Based on the data above we'd get the most value out of advertising to get mor ecustomers in Czech Republic, United Kingdom, and India. "
   ]
  },
  {
   "cell_type": "code",
   "execution_count": 43,
   "metadata": {
    "collapsed": false
   },
   "outputs": [
    {
     "data": {
      "text/html": [
       "<div>\n",
       "<table border=\"1\" class=\"dataframe\">\n",
       "  <thead>\n",
       "    <tr style=\"text-align: right;\">\n",
       "      <th></th>\n",
       "      <th>Full Album Purchased</th>\n",
       "      <th>Invoice Count</th>\n",
       "      <th>percent</th>\n",
       "    </tr>\n",
       "  </thead>\n",
       "  <tbody>\n",
       "    <tr>\n",
       "      <th>0</th>\n",
       "      <td>No</td>\n",
       "      <td>500</td>\n",
       "      <td>0.814332</td>\n",
       "    </tr>\n",
       "    <tr>\n",
       "      <th>1</th>\n",
       "      <td>Yes</td>\n",
       "      <td>114</td>\n",
       "      <td>0.185668</td>\n",
       "    </tr>\n",
       "  </tbody>\n",
       "</table>\n",
       "</div>"
      ],
      "text/plain": [
       "  Full Album Purchased  Invoice Count   percent\n",
       "0                   No            500  0.814332\n",
       "1                  Yes            114  0.185668"
      ]
     },
     "execution_count": 43,
     "metadata": {},
     "output_type": "execute_result"
    }
   ],
   "source": [
    "q = '''\n",
    "WITH full_album AS\n",
    "(SELECT \n",
    "    i.invoice_id, \n",
    "    il.track_id, \n",
    "    t.album_id,\n",
    "    CASE WHEN\n",
    "        (\n",
    "            (\n",
    "                SELECT \n",
    "                    track_id\n",
    "                FROM \n",
    "                    invoice_line\n",
    "                WHERE \n",
    "                    invoice_id = i.invoice_id\n",
    "                EXCEPT\n",
    "                SELECT \n",
    "                    track_id\n",
    "                FROM \n",
    "                    track\n",
    "                WHERE \n",
    "                    album_id = t.album_id\n",
    "                ) IS NULL\n",
    "\n",
    "                AND\n",
    "\n",
    "                (\n",
    "                    SELECT \n",
    "                        track_id\n",
    "                    FROM \n",
    "                        track\n",
    "                    WHERE \n",
    "                        album_id = t.album_id\n",
    "                    EXCEPT\n",
    "                    SELECT \n",
    "                        track_id\n",
    "                    FROM\n",
    "                        invoice_line\n",
    "                    WHERE \n",
    "                        invoice_id = i.invoice_id\n",
    "                ) IS NULL\n",
    "            ) THEN \"Yes\"\n",
    "            ELSE \"No\"\n",
    "            END AS full_album_bool\n",
    "    \n",
    "FROM\n",
    "    invoice i\n",
    "    INNER JOIN invoice_line il ON i.invoice_id = il.invoice_id\n",
    "    INNER JOIN track t ON il.track_id = t.track_id\n",
    ")\n",
    "\n",
    "SELECT\n",
    "    full_album_bool \"Full Album Purchased\",\n",
    "    COUNT(distinct invoice_id) \"Invoice Count\",\n",
    "    CAST(COUNT(distinct invoice_id) as float) / (SELECT COUNT (*) FROM invoice) percent\n",
    "FROM\n",
    "    full_album\n",
    "GROUP BY 1\n",
    "'''\n",
    "\n",
    "run_query(q)"
   ]
  },
  {
   "cell_type": "markdown",
   "metadata": {
    "collapsed": true
   },
   "source": [
    "I think Chinook should continue to buy full albums. Although the majority of customers buy single tracks, full albums still accounts for 1/5 of sales."
   ]
  },
  {
   "cell_type": "code",
   "execution_count": null,
   "metadata": {
    "collapsed": true
   },
   "outputs": [],
   "source": []
  }
 ],
 "metadata": {
  "kernelspec": {
   "display_name": "Python 3",
   "language": "python",
   "name": "python3"
  },
  "language_info": {
   "codemirror_mode": {
    "name": "ipython",
    "version": 3
   },
   "file_extension": ".py",
   "mimetype": "text/x-python",
   "name": "python",
   "nbconvert_exporter": "python",
   "pygments_lexer": "ipython3",
   "version": "3.4.3"
  }
 },
 "nbformat": 4,
 "nbformat_minor": 2
}
