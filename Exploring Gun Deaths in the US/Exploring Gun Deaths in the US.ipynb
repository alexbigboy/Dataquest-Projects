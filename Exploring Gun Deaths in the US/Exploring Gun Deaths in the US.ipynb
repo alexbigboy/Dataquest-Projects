{
 "cells": [
  {
   "cell_type": "code",
   "execution_count": 1,
   "metadata": {
    "collapsed": false
   },
   "outputs": [
    {
     "name": "stdout",
     "output_type": "stream",
     "text": [
      "[['', 'year', 'month', 'intent', 'police', 'sex', 'age', 'race', 'hispanic', 'place', 'education'], ['1', '2012', '01', 'Suicide', '0', 'M', '34', 'Asian/Pacific Islander', '100', 'Home', '4'], ['2', '2012', '01', 'Suicide', '0', 'F', '21', 'White', '100', 'Street', '3'], ['3', '2012', '01', 'Suicide', '0', 'M', '60', 'White', '100', 'Other specified', '4'], ['4', '2012', '02', 'Suicide', '0', 'M', '64', 'White', '100', 'Home', '4']]\n"
     ]
    }
   ],
   "source": [
    "import csv\n",
    "import datetime \n",
    "data = list(csv.reader(open('guns.csv','r')))\n",
    "print(data[0:5])"
   ]
  },
  {
   "cell_type": "code",
   "execution_count": 2,
   "metadata": {
    "collapsed": false
   },
   "outputs": [
    {
     "name": "stdout",
     "output_type": "stream",
     "text": [
      "[['1', '2012', '01', 'Suicide', '0', 'M', '34', 'Asian/Pacific Islander', '100', 'Home', '4'], ['2', '2012', '01', 'Suicide', '0', 'F', '21', 'White', '100', 'Street', '3'], ['3', '2012', '01', 'Suicide', '0', 'M', '60', 'White', '100', 'Other specified', '4'], ['4', '2012', '02', 'Suicide', '0', 'M', '64', 'White', '100', 'Home', '4'], ['5', '2012', '02', 'Suicide', '0', 'M', '31', 'White', '100', 'Other specified', '2']]\n"
     ]
    }
   ],
   "source": [
    "headers = data[0]\n",
    "data = data[1:len(data)]\n",
    "print(data[0:5])"
   ]
  },
  {
   "cell_type": "code",
   "execution_count": 3,
   "metadata": {
    "collapsed": false
   },
   "outputs": [
    {
     "data": {
      "text/plain": [
       "{'2012': 33563, '2013': 33636, '2014': 33599}"
      ]
     },
     "execution_count": 3,
     "metadata": {},
     "output_type": "execute_result"
    }
   ],
   "source": [
    "years = [ row[1] for row in data ]\n",
    "year_counts = {}\n",
    "for year in years:\n",
    "    if year in year_counts:\n",
    "        year_counts[year] += 1\n",
    "    else:\n",
    "        year_counts[year] = 1\n",
    "year_counts"
   ]
  },
  {
   "cell_type": "markdown",
   "metadata": {},
   "source": [
    "## Exploring Gun Deaths by Month and Year\n",
    "Converting the Month and Year field into datetimes. This allows us to explore the monthly death rate caused by guns per year."
   ]
  },
  {
   "cell_type": "code",
   "execution_count": 4,
   "metadata": {
    "collapsed": false,
    "scrolled": true
   },
   "outputs": [
    {
     "name": "stdout",
     "output_type": "stream",
     "text": [
      "Gun Deaths by Month and Year \n",
      "\n"
     ]
    },
    {
     "data": {
      "text/plain": [
       "{datetime.date(2012, 1, 1): 2758,\n",
       " datetime.date(2012, 2, 1): 2357,\n",
       " datetime.date(2012, 3, 1): 2743,\n",
       " datetime.date(2012, 4, 1): 2795,\n",
       " datetime.date(2012, 5, 1): 2999,\n",
       " datetime.date(2012, 6, 1): 2826,\n",
       " datetime.date(2012, 7, 1): 3026,\n",
       " datetime.date(2012, 8, 1): 2954,\n",
       " datetime.date(2012, 9, 1): 2852,\n",
       " datetime.date(2012, 10, 1): 2733,\n",
       " datetime.date(2012, 11, 1): 2729,\n",
       " datetime.date(2012, 12, 1): 2791,\n",
       " datetime.date(2013, 1, 1): 2864,\n",
       " datetime.date(2013, 2, 1): 2375,\n",
       " datetime.date(2013, 3, 1): 2862,\n",
       " datetime.date(2013, 4, 1): 2798,\n",
       " datetime.date(2013, 5, 1): 2806,\n",
       " datetime.date(2013, 6, 1): 2920,\n",
       " datetime.date(2013, 7, 1): 3079,\n",
       " datetime.date(2013, 8, 1): 2859,\n",
       " datetime.date(2013, 9, 1): 2742,\n",
       " datetime.date(2013, 10, 1): 2808,\n",
       " datetime.date(2013, 11, 1): 2758,\n",
       " datetime.date(2013, 12, 1): 2765,\n",
       " datetime.date(2014, 1, 1): 2651,\n",
       " datetime.date(2014, 2, 1): 2361,\n",
       " datetime.date(2014, 3, 1): 2684,\n",
       " datetime.date(2014, 4, 1): 2862,\n",
       " datetime.date(2014, 5, 1): 2864,\n",
       " datetime.date(2014, 6, 1): 2931,\n",
       " datetime.date(2014, 7, 1): 2884,\n",
       " datetime.date(2014, 8, 1): 2970,\n",
       " datetime.date(2014, 9, 1): 2914,\n",
       " datetime.date(2014, 10, 1): 2865,\n",
       " datetime.date(2014, 11, 1): 2756,\n",
       " datetime.date(2014, 12, 1): 2857}"
      ]
     },
     "execution_count": 4,
     "metadata": {},
     "output_type": "execute_result"
    }
   ],
   "source": [
    "dates = [ datetime.datetime(year=int(row[1]), month=int(row[2]), day=1) for row in data]\n",
    "date_counts = {}\n",
    "\n",
    "for date in dates:\n",
    "    if date.date() in date_counts:\n",
    "        date_counts[date.date()] += 1\n",
    "    else:\n",
    "        date_counts[date.date()] = 1\n",
    "\n",
    "print(\"Gun Deaths by Month and Year \\n\")        \n",
    "date_counts\n",
    "    "
   ]
  },
  {
   "cell_type": "markdown",
   "metadata": {},
   "source": [
    "## Exploring Gun Deaths by Sex and Race\n",
    "Males had deaths related to guns at 6x the rate of females from 2012 to 2014. \n",
    "\n",
    "White males account for over (55%) of gun deaths. This statistic is a bit misleading as white males make up the majority of the the United States. Lets look at how many gun deaths occur per 100,000 people of each race (100,000 is a common unit of measure for crime statistics) "
   ]
  },
  {
   "cell_type": "code",
   "execution_count": 5,
   "metadata": {
    "collapsed": false
   },
   "outputs": [
    {
     "name": "stdout",
     "output_type": "stream",
     "text": [
      "Gun Deaths by Sex \n",
      "\n",
      "{'M': 86349, 'F': 14449}\n",
      "5.976122915080628\n",
      "\n",
      "Gun Deaths by Race \n",
      "\n",
      "{'Hispanic': 9022, 'Native American/Native Alaskan': 917, 'White': 66237, 'Asian/Pacific Islander': 1326, 'Black': 23296}\n",
      "\n",
      "Gun Deaths by White Males \n",
      "\n",
      "55550\n",
      "0.5511022044088176\n"
     ]
    }
   ],
   "source": [
    "sex_counts = {}\n",
    "race_counts = {}\n",
    "white_males = {}\n",
    "\n",
    "for row in data:\n",
    "    if row[5] in sex_counts:\n",
    "        sex_counts[row[5]] += 1\n",
    "    else:\n",
    "        sex_counts[row[5]] = 1\n",
    "        \n",
    "    if row[7] in race_counts:\n",
    "        race_counts[row[7]] += 1\n",
    "    else:\n",
    "        race_counts[row[7]] = 1\n",
    "        \n",
    "white_males = [ row for row in data if row[5] == 'M' and row[7] == 'White']\n",
    "white_males_count = 0\n",
    "for row in white_males:\n",
    "    white_males_count += 1\n",
    "    \n",
    "print(\"Gun Deaths by Sex \\n\")\n",
    "print(sex_counts)\n",
    "print((sex_counts['M']/sex_counts['F']))\n",
    "print(\"\\nGun Deaths by Race \\n\")\n",
    "print(race_counts)\n",
    "print(\"\\nGun Deaths by White Males \\n\")\n",
    "print(white_males_count)\n",
    "print(white_males_count / (86349 + 14449))\n",
    "        \n"
   ]
  },
  {
   "cell_type": "code",
   "execution_count": 6,
   "metadata": {
    "collapsed": false
   },
   "outputs": [
    {
     "data": {
      "text/plain": [
       "[['Id',\n",
       "  'Year',\n",
       "  'Id',\n",
       "  'Sex',\n",
       "  'Id',\n",
       "  'Hispanic Origin',\n",
       "  'Id',\n",
       "  'Id2',\n",
       "  'Geography',\n",
       "  'Total',\n",
       "  'Race Alone - White',\n",
       "  'Race Alone - Hispanic',\n",
       "  'Race Alone - Black or African American',\n",
       "  'Race Alone - American Indian and Alaska Native',\n",
       "  'Race Alone - Asian',\n",
       "  'Race Alone - Native Hawaiian and Other Pacific Islander',\n",
       "  'Two or More Races'],\n",
       " ['cen42010',\n",
       "  'April 1, 2010 Census',\n",
       "  'totsex',\n",
       "  'Both Sexes',\n",
       "  'tothisp',\n",
       "  'Total',\n",
       "  '0100000US',\n",
       "  '',\n",
       "  'United States',\n",
       "  '308745538',\n",
       "  '197318956',\n",
       "  '44618105',\n",
       "  '40250635',\n",
       "  '3739506',\n",
       "  '15159516',\n",
       "  '674625',\n",
       "  '6984195']]"
      ]
     },
     "execution_count": 6,
     "metadata": {},
     "output_type": "execute_result"
    }
   ],
   "source": [
    "census = list(csv.reader(open('census.csv','r')))\n",
    "census"
   ]
  },
  {
   "cell_type": "code",
   "execution_count": 7,
   "metadata": {
    "collapsed": false
   },
   "outputs": [
    {
     "data": {
      "text/plain": [
       "{'Asian/Pacific Islander': 8.374309664161762,\n",
       " 'Black': 57.8773477735196,\n",
       " 'Hispanic': 20.220491210910907,\n",
       " 'Native American/Native Alaskan': 24.521955573811088,\n",
       " 'White': 33.56849303419181}"
      ]
     },
     "execution_count": 7,
     "metadata": {},
     "output_type": "execute_result"
    }
   ],
   "source": [
    "total_population = {'White' : 197318956 , \n",
    "                    'Black' : 40250635 , \n",
    "                    'Native American/Native Alaskan' : 3739506 , \n",
    "                    'Hispanic' : 44618105 , \n",
    "                   'Asian/Pacific Islander' : 15834141}\n",
    "\n",
    "race_per_hundredk = {}\n",
    "\n",
    "for idx, value in race_counts.items():\n",
    "    race_per_hundredk[idx] = (race_counts[idx] / total_population[idx])*100000\n",
    "\n",
    "race_per_hundredk"
   ]
  },
  {
   "cell_type": "markdown",
   "metadata": {},
   "source": [
    "## Homicide Rates in the United States\n",
    "\n",
    "Next we will explore homicide rates in the United States to find out the gun-related murder rate per 100,000 for each race."
   ]
  },
  {
   "cell_type": "code",
   "execution_count": 38,
   "metadata": {
    "collapsed": false
   },
   "outputs": [
    {
     "data": {
      "text/plain": [
       "{'Asian/Pacific Islander': 3.530346230970155,\n",
       " 'Black': 48.471284987180944,\n",
       " 'Hispanic': 12.627161104219914,\n",
       " 'Native American/Native Alaskan': 8.717729026240365,\n",
       " 'White': 4.6356417981453335}"
      ]
     },
     "execution_count": 38,
     "metadata": {},
     "output_type": "execute_result"
    }
   ],
   "source": [
    "def homicide_count(index, data=data):\n",
    "    homicide_count = {}\n",
    "    for row in data:\n",
    "        if row[3] == 'Homicide':\n",
    "            if row[index] in homicide_count:\n",
    "                homicide_count[row[index]] += 1\n",
    "            else:\n",
    "                homicide_count[row[index]] = 1\n",
    "                \n",
    "\n",
    "    return homicide_count\n",
    "\n",
    "homicide_race_counts = homicide_count(7)\n",
    "\n",
    "for idx, value in homicide_race_counts.items():\n",
    "    homicide_race_counts[idx] = (homicide_race_counts[idx] / total_population[idx])*100000\n",
    "\n",
    "homicide_race_counts\n",
    "    \n"
   ]
  },
  {
   "cell_type": "markdown",
   "metadata": {},
   "source": [
    "## Findings so far\n",
    "Homicide related gun deaths seem to affect African Americans and Hispanics at a much higher rate than Whites and other races. "
   ]
  },
  {
   "cell_type": "markdown",
   "metadata": {},
   "source": [
    "## Homicides By Month"
   ]
  },
  {
   "cell_type": "code",
   "execution_count": 23,
   "metadata": {
    "collapsed": false
   },
   "outputs": [
    {
     "data": {
      "text/plain": [
       "{datetime.datetime(2012, 1, 1, 0, 0): 972,\n",
       " datetime.datetime(2012, 2, 1, 0, 0): 749,\n",
       " datetime.datetime(2012, 3, 1, 0, 0): 966,\n",
       " datetime.datetime(2012, 4, 1, 0, 0): 999,\n",
       " datetime.datetime(2012, 5, 1, 0, 0): 1003,\n",
       " datetime.datetime(2012, 6, 1, 0, 0): 1044,\n",
       " datetime.datetime(2012, 7, 1, 0, 0): 1160,\n",
       " datetime.datetime(2012, 8, 1, 0, 0): 1090,\n",
       " datetime.datetime(2012, 9, 1, 0, 0): 1070,\n",
       " datetime.datetime(2012, 10, 1, 0, 0): 979,\n",
       " datetime.datetime(2012, 11, 1, 0, 0): 978,\n",
       " datetime.datetime(2012, 12, 1, 0, 0): 1083,\n",
       " datetime.datetime(2013, 1, 1, 0, 0): 986,\n",
       " datetime.datetime(2013, 2, 1, 0, 0): 721,\n",
       " datetime.datetime(2013, 3, 1, 0, 0): 923,\n",
       " datetime.datetime(2013, 4, 1, 0, 0): 916,\n",
       " datetime.datetime(2013, 5, 1, 0, 0): 955,\n",
       " datetime.datetime(2013, 6, 1, 0, 0): 1066,\n",
       " datetime.datetime(2013, 7, 1, 0, 0): 1137,\n",
       " datetime.datetime(2013, 8, 1, 0, 0): 1000,\n",
       " datetime.datetime(2013, 9, 1, 0, 0): 954,\n",
       " datetime.datetime(2013, 10, 1, 0, 0): 1009,\n",
       " datetime.datetime(2013, 11, 1, 0, 0): 979,\n",
       " datetime.datetime(2013, 12, 1, 0, 0): 1028,\n",
       " datetime.datetime(2014, 1, 1, 0, 0): 871,\n",
       " datetime.datetime(2014, 2, 1, 0, 0): 708,\n",
       " datetime.datetime(2014, 3, 1, 0, 0): 891,\n",
       " datetime.datetime(2014, 4, 1, 0, 0): 930,\n",
       " datetime.datetime(2014, 5, 1, 0, 0): 1018,\n",
       " datetime.datetime(2014, 6, 1, 0, 0): 1020,\n",
       " datetime.datetime(2014, 7, 1, 0, 0): 972,\n",
       " datetime.datetime(2014, 8, 1, 0, 0): 1035,\n",
       " datetime.datetime(2014, 9, 1, 0, 0): 942,\n",
       " datetime.datetime(2014, 10, 1, 0, 0): 980,\n",
       " datetime.datetime(2014, 11, 1, 0, 0): 962,\n",
       " datetime.datetime(2014, 12, 1, 0, 0): 1080}"
      ]
     },
     "execution_count": 23,
     "metadata": {},
     "output_type": "execute_result"
    }
   ],
   "source": [
    "homicides_by_month = {}\n",
    "\n",
    "for idx, value in enumerate(dates):\n",
    "    if intents[idx] == 'Homicide':\n",
    "        if value in homicides_by_month:\n",
    "            homicides_by_month[value] += 1\n",
    "        else:\n",
    "            homicides_by_month[value] = 1\n",
    "            \n",
    "homicides_by_month"
   ]
  },
  {
   "cell_type": "markdown",
   "metadata": {},
   "source": [
    "## Homicides by Gender"
   ]
  },
  {
   "cell_type": "code",
   "execution_count": 40,
   "metadata": {
    "collapsed": false
   },
   "outputs": [
    {
     "data": {
      "text/plain": [
       "{'F': 5373, 'M': 29803}"
      ]
     },
     "execution_count": 40,
     "metadata": {},
     "output_type": "execute_result"
    }
   ],
   "source": [
    "homicides_by_gender = homicide_count(5)\n",
    "homicides_by_gender"
   ]
  },
  {
   "cell_type": "code",
   "execution_count": null,
   "metadata": {
    "collapsed": true
   },
   "outputs": [],
   "source": []
  }
 ],
 "metadata": {
  "kernelspec": {
   "display_name": "Python 3",
   "language": "python",
   "name": "python3"
  },
  "language_info": {
   "codemirror_mode": {
    "name": "ipython",
    "version": 3
   },
   "file_extension": ".py",
   "mimetype": "text/x-python",
   "name": "python",
   "nbconvert_exporter": "python",
   "pygments_lexer": "ipython3",
   "version": "3.4.3"
  }
 },
 "nbformat": 4,
 "nbformat_minor": 0
}
